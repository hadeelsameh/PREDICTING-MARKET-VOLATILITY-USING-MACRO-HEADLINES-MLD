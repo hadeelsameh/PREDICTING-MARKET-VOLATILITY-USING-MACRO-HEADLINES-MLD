{
 "cells": [
  {
   "cell_type": "markdown",
   "metadata": {},
   "source": [
    "# {Exploratory Data Analysis for Stock data of (MSFT,AMZN,APPLE,IBM,TSLA) }\n",
    "## By: Hadeel Sameh Hassan\n",
    "#  "
   ]
  },
  {
   "cell_type": "markdown",
   "metadata": {},
   "source": [
    "# MSFT Stock Data"
   ]
  },
  {
   "cell_type": "code",
   "execution_count": 1,
   "metadata": {},
   "outputs": [],
   "source": [
    "import pandas as pd\n",
    "MSFT_df=pd.read_csv('HistoricalData_MSFT.csv')"
   ]
  },
  {
   "cell_type": "code",
   "execution_count": 2,
   "metadata": {},
   "outputs": [],
   "source": [
    "import matplotlib.pyplot as plt\n",
    "import numpy as np\n",
    "import seaborn as sns"
   ]
  },
  {
   "cell_type": "markdown",
   "metadata": {},
   "source": [
    "# checking data and explore columns type"
   ]
  },
  {
   "cell_type": "code",
   "execution_count": 3,
   "metadata": {},
   "outputs": [
    {
     "data": {
      "text/html": [
       "<div>\n",
       "<style scoped>\n",
       "    .dataframe tbody tr th:only-of-type {\n",
       "        vertical-align: middle;\n",
       "    }\n",
       "\n",
       "    .dataframe tbody tr th {\n",
       "        vertical-align: top;\n",
       "    }\n",
       "\n",
       "    .dataframe thead th {\n",
       "        text-align: right;\n",
       "    }\n",
       "</style>\n",
       "<table border=\"1\" class=\"dataframe\">\n",
       "  <thead>\n",
       "    <tr style=\"text-align: right;\">\n",
       "      <th></th>\n",
       "      <th>Date</th>\n",
       "      <th>Close/Last</th>\n",
       "      <th>Volume</th>\n",
       "      <th>Open</th>\n",
       "      <th>High</th>\n",
       "      <th>Low</th>\n",
       "    </tr>\n",
       "  </thead>\n",
       "  <tbody>\n",
       "    <tr>\n",
       "      <td>0</td>\n",
       "      <td>09/24/2021</td>\n",
       "      <td>$299.35</td>\n",
       "      <td>14998980</td>\n",
       "      <td>$298.23</td>\n",
       "      <td>$299.8</td>\n",
       "      <td>$296.93</td>\n",
       "    </tr>\n",
       "    <tr>\n",
       "      <td>1</td>\n",
       "      <td>09/23/2021</td>\n",
       "      <td>$299.56</td>\n",
       "      <td>18604600</td>\n",
       "      <td>$298.845</td>\n",
       "      <td>$300.9</td>\n",
       "      <td>$297.5339</td>\n",
       "    </tr>\n",
       "    <tr>\n",
       "      <td>2</td>\n",
       "      <td>09/22/2021</td>\n",
       "      <td>$298.58</td>\n",
       "      <td>26626340</td>\n",
       "      <td>$296.725</td>\n",
       "      <td>$300.22</td>\n",
       "      <td>$294.51</td>\n",
       "    </tr>\n",
       "    <tr>\n",
       "      <td>3</td>\n",
       "      <td>09/21/2021</td>\n",
       "      <td>$294.8</td>\n",
       "      <td>22364100</td>\n",
       "      <td>$295.69</td>\n",
       "      <td>$297.54</td>\n",
       "      <td>$294.07</td>\n",
       "    </tr>\n",
       "    <tr>\n",
       "      <td>4</td>\n",
       "      <td>09/20/2021</td>\n",
       "      <td>$294.3</td>\n",
       "      <td>38278660</td>\n",
       "      <td>$296.33</td>\n",
       "      <td>$298.72</td>\n",
       "      <td>$289.52</td>\n",
       "    </tr>\n",
       "  </tbody>\n",
       "</table>\n",
       "</div>"
      ],
      "text/plain": [
       "         Date Close/Last    Volume      Open     High        Low\n",
       "0  09/24/2021    $299.35  14998980   $298.23   $299.8    $296.93\n",
       "1  09/23/2021    $299.56  18604600  $298.845   $300.9  $297.5339\n",
       "2  09/22/2021    $298.58  26626340  $296.725  $300.22    $294.51\n",
       "3  09/21/2021     $294.8  22364100   $295.69  $297.54    $294.07\n",
       "4  09/20/2021     $294.3  38278660   $296.33  $298.72    $289.52"
      ]
     },
     "execution_count": 3,
     "metadata": {},
     "output_type": "execute_result"
    }
   ],
   "source": [
    "MSFT_df.head(5)"
   ]
  },
  {
   "cell_type": "code",
   "execution_count": 4,
   "metadata": {},
   "outputs": [
    {
     "name": "stdout",
     "output_type": "stream",
     "text": [
      "<class 'pandas.core.frame.DataFrame'>\n",
      "RangeIndex: 127 entries, 0 to 126\n",
      "Data columns (total 6 columns):\n",
      "Date          127 non-null object\n",
      "Close/Last    127 non-null object\n",
      "Volume        127 non-null int64\n",
      "Open          127 non-null object\n",
      "High          127 non-null object\n",
      "Low           127 non-null object\n",
      "dtypes: int64(1), object(5)\n",
      "memory usage: 6.1+ KB\n"
     ]
    }
   ],
   "source": [
    "MSFT_df.info()"
   ]
  },
  {
   "cell_type": "markdown",
   "metadata": {},
   "source": [
    "#  Removing  \" Dollar sign\" from 'Close/Last','Open','High','Low' culomns"
   ]
  },
  {
   "cell_type": "code",
   "execution_count": 5,
   "metadata": {},
   "outputs": [],
   "source": [
    "\n",
    "string_col=['Date','Close/Last','Open','High','Low']\n",
    "for col in string_col:\n",
    "    MSFT_df[col] = MSFT_df[col].map(lambda x: str(x).replace('$',''))"
   ]
  },
  {
   "cell_type": "markdown",
   "metadata": {},
   "source": [
    "# Splitting \"Date\" cloumn into (day,month,and year) then, droping it and drop \"year\" column beacause our data is only 6months ,so year would not affect our model."
   ]
  },
  {
   "cell_type": "code",
   "execution_count": 6,
   "metadata": {},
   "outputs": [],
   "source": [
    "MSFT_df[\"day\"] = MSFT_df['Date'].map(lambda x: pd.to_datetime(x).day)\n",
    "MSFT_df[\"month\"] = MSFT_df['Date'].map(lambda x: pd.to_datetime(x).month)\n",
    "MSFT_df[\"year\"] = MSFT_df['Date'].map(lambda x: pd.to_datetime(x).year)"
   ]
  },
  {
   "cell_type": "code",
   "execution_count": 7,
   "metadata": {},
   "outputs": [],
   "source": [
    "MSFT_df = MSFT_df.drop([\"Date\",\"year\"],axis =1 )"
   ]
  },
  {
   "cell_type": "markdown",
   "metadata": {},
   "source": [
    "# converting columns types to numerical"
   ]
  },
  {
   "cell_type": "code",
   "execution_count": 8,
   "metadata": {},
   "outputs": [],
   "source": [
    "string_2_float=['Close/Last','Open','High','Low']\n",
    "MSFT_df['day'] = MSFT_df['day'].apply(int)\n",
    "MSFT_df['month'] = MSFT_df['month'].apply(int)\n",
    "for col in string_2_float:\n",
    "    MSFT_df[col] = MSFT_df[col].apply(float)"
   ]
  },
  {
   "cell_type": "markdown",
   "metadata": {},
   "source": [
    "### The result of data is : "
   ]
  },
  {
   "cell_type": "code",
   "execution_count": 9,
   "metadata": {},
   "outputs": [
    {
     "data": {
      "text/html": [
       "<div>\n",
       "<style scoped>\n",
       "    .dataframe tbody tr th:only-of-type {\n",
       "        vertical-align: middle;\n",
       "    }\n",
       "\n",
       "    .dataframe tbody tr th {\n",
       "        vertical-align: top;\n",
       "    }\n",
       "\n",
       "    .dataframe thead th {\n",
       "        text-align: right;\n",
       "    }\n",
       "</style>\n",
       "<table border=\"1\" class=\"dataframe\">\n",
       "  <thead>\n",
       "    <tr style=\"text-align: right;\">\n",
       "      <th></th>\n",
       "      <th>Date</th>\n",
       "      <th>Close/Last</th>\n",
       "      <th>Volume</th>\n",
       "      <th>Open</th>\n",
       "      <th>High</th>\n",
       "      <th>Low</th>\n",
       "      <th>day</th>\n",
       "      <th>month</th>\n",
       "    </tr>\n",
       "  </thead>\n",
       "  <tbody>\n",
       "    <tr>\n",
       "      <td>0</td>\n",
       "      <td>09/24/2021</td>\n",
       "      <td>299.35</td>\n",
       "      <td>14998980</td>\n",
       "      <td>298.230</td>\n",
       "      <td>299.80</td>\n",
       "      <td>296.9300</td>\n",
       "      <td>24</td>\n",
       "      <td>9</td>\n",
       "    </tr>\n",
       "    <tr>\n",
       "      <td>1</td>\n",
       "      <td>09/23/2021</td>\n",
       "      <td>299.56</td>\n",
       "      <td>18604600</td>\n",
       "      <td>298.845</td>\n",
       "      <td>300.90</td>\n",
       "      <td>297.5339</td>\n",
       "      <td>23</td>\n",
       "      <td>9</td>\n",
       "    </tr>\n",
       "    <tr>\n",
       "      <td>2</td>\n",
       "      <td>09/22/2021</td>\n",
       "      <td>298.58</td>\n",
       "      <td>26626340</td>\n",
       "      <td>296.725</td>\n",
       "      <td>300.22</td>\n",
       "      <td>294.5100</td>\n",
       "      <td>22</td>\n",
       "      <td>9</td>\n",
       "    </tr>\n",
       "    <tr>\n",
       "      <td>3</td>\n",
       "      <td>09/21/2021</td>\n",
       "      <td>294.80</td>\n",
       "      <td>22364100</td>\n",
       "      <td>295.690</td>\n",
       "      <td>297.54</td>\n",
       "      <td>294.0700</td>\n",
       "      <td>21</td>\n",
       "      <td>9</td>\n",
       "    </tr>\n",
       "    <tr>\n",
       "      <td>4</td>\n",
       "      <td>09/20/2021</td>\n",
       "      <td>294.30</td>\n",
       "      <td>38278660</td>\n",
       "      <td>296.330</td>\n",
       "      <td>298.72</td>\n",
       "      <td>289.5200</td>\n",
       "      <td>20</td>\n",
       "      <td>9</td>\n",
       "    </tr>\n",
       "  </tbody>\n",
       "</table>\n",
       "</div>"
      ],
      "text/plain": [
       "         Date  Close/Last    Volume     Open    High       Low  day  month\n",
       "0  09/24/2021      299.35  14998980  298.230  299.80  296.9300   24      9\n",
       "1  09/23/2021      299.56  18604600  298.845  300.90  297.5339   23      9\n",
       "2  09/22/2021      298.58  26626340  296.725  300.22  294.5100   22      9\n",
       "3  09/21/2021      294.80  22364100  295.690  297.54  294.0700   21      9\n",
       "4  09/20/2021      294.30  38278660  296.330  298.72  289.5200   20      9"
      ]
     },
     "execution_count": 9,
     "metadata": {},
     "output_type": "execute_result"
    }
   ],
   "source": [
    "MSFT_df.head(5)"
   ]
  },
  {
   "cell_type": "code",
   "execution_count": 10,
   "metadata": {},
   "outputs": [
    {
     "name": "stdout",
     "output_type": "stream",
     "text": [
      "<class 'pandas.core.frame.DataFrame'>\n",
      "RangeIndex: 127 entries, 0 to 126\n",
      "Data columns (total 8 columns):\n",
      "Date          127 non-null object\n",
      "Close/Last    127 non-null float64\n",
      "Volume        127 non-null int64\n",
      "Open          127 non-null float64\n",
      "High          127 non-null float64\n",
      "Low           127 non-null float64\n",
      "day           127 non-null int64\n",
      "month         127 non-null int64\n",
      "dtypes: float64(4), int64(3), object(1)\n",
      "memory usage: 8.1+ KB\n"
     ]
    }
   ],
   "source": [
    "MSFT_df.info()"
   ]
  },
  {
   "cell_type": "code",
   "execution_count": 11,
   "metadata": {},
   "outputs": [
    {
     "data": {
      "text/html": [
       "<div>\n",
       "<style scoped>\n",
       "    .dataframe tbody tr th:only-of-type {\n",
       "        vertical-align: middle;\n",
       "    }\n",
       "\n",
       "    .dataframe tbody tr th {\n",
       "        vertical-align: top;\n",
       "    }\n",
       "\n",
       "    .dataframe thead th {\n",
       "        text-align: right;\n",
       "    }\n",
       "</style>\n",
       "<table border=\"1\" class=\"dataframe\">\n",
       "  <thead>\n",
       "    <tr style=\"text-align: right;\">\n",
       "      <th></th>\n",
       "      <th>Close/Last</th>\n",
       "      <th>Volume</th>\n",
       "      <th>Open</th>\n",
       "      <th>High</th>\n",
       "      <th>Low</th>\n",
       "      <th>day</th>\n",
       "      <th>month</th>\n",
       "    </tr>\n",
       "  </thead>\n",
       "  <tbody>\n",
       "    <tr>\n",
       "      <td>count</td>\n",
       "      <td>127.000000</td>\n",
       "      <td>1.270000e+02</td>\n",
       "      <td>127.000000</td>\n",
       "      <td>127.000000</td>\n",
       "      <td>127.000000</td>\n",
       "      <td>127.000000</td>\n",
       "      <td>127.000000</td>\n",
       "    </tr>\n",
       "    <tr>\n",
       "      <td>mean</td>\n",
       "      <td>271.102717</td>\n",
       "      <td>2.388144e+07</td>\n",
       "      <td>270.717260</td>\n",
       "      <td>272.744787</td>\n",
       "      <td>268.880279</td>\n",
       "      <td>16.047244</td>\n",
       "      <td>6.330709</td>\n",
       "    </tr>\n",
       "    <tr>\n",
       "      <td>std</td>\n",
       "      <td>21.105790</td>\n",
       "      <td>6.394271e+06</td>\n",
       "      <td>21.297217</td>\n",
       "      <td>21.111262</td>\n",
       "      <td>21.078022</td>\n",
       "      <td>8.739491</td>\n",
       "      <td>1.755061</td>\n",
       "    </tr>\n",
       "    <tr>\n",
       "      <td>min</td>\n",
       "      <td>231.850000</td>\n",
       "      <td>1.390017e+07</td>\n",
       "      <td>231.550000</td>\n",
       "      <td>233.850000</td>\n",
       "      <td>231.100000</td>\n",
       "      <td>1.000000</td>\n",
       "      <td>3.000000</td>\n",
       "    </tr>\n",
       "    <tr>\n",
       "      <td>25%</td>\n",
       "      <td>252.320000</td>\n",
       "      <td>1.953475e+07</td>\n",
       "      <td>251.959500</td>\n",
       "      <td>254.114500</td>\n",
       "      <td>250.785000</td>\n",
       "      <td>9.000000</td>\n",
       "      <td>5.000000</td>\n",
       "    </tr>\n",
       "    <tr>\n",
       "      <td>50%</td>\n",
       "      <td>266.690000</td>\n",
       "      <td>2.307917e+07</td>\n",
       "      <td>266.185000</td>\n",
       "      <td>267.850000</td>\n",
       "      <td>265.470000</td>\n",
       "      <td>16.000000</td>\n",
       "      <td>6.000000</td>\n",
       "    </tr>\n",
       "    <tr>\n",
       "      <td>75%</td>\n",
       "      <td>289.595000</td>\n",
       "      <td>2.622330e+07</td>\n",
       "      <td>288.995000</td>\n",
       "      <td>290.070000</td>\n",
       "      <td>287.132900</td>\n",
       "      <td>23.000000</td>\n",
       "      <td>8.000000</td>\n",
       "    </tr>\n",
       "    <tr>\n",
       "      <td>max</td>\n",
       "      <td>305.220000</td>\n",
       "      <td>4.690312e+07</td>\n",
       "      <td>305.020000</td>\n",
       "      <td>305.840000</td>\n",
       "      <td>302.003500</td>\n",
       "      <td>31.000000</td>\n",
       "      <td>9.000000</td>\n",
       "    </tr>\n",
       "  </tbody>\n",
       "</table>\n",
       "</div>"
      ],
      "text/plain": [
       "       Close/Last        Volume        Open        High         Low  \\\n",
       "count  127.000000  1.270000e+02  127.000000  127.000000  127.000000   \n",
       "mean   271.102717  2.388144e+07  270.717260  272.744787  268.880279   \n",
       "std     21.105790  6.394271e+06   21.297217   21.111262   21.078022   \n",
       "min    231.850000  1.390017e+07  231.550000  233.850000  231.100000   \n",
       "25%    252.320000  1.953475e+07  251.959500  254.114500  250.785000   \n",
       "50%    266.690000  2.307917e+07  266.185000  267.850000  265.470000   \n",
       "75%    289.595000  2.622330e+07  288.995000  290.070000  287.132900   \n",
       "max    305.220000  4.690312e+07  305.020000  305.840000  302.003500   \n",
       "\n",
       "              day       month  \n",
       "count  127.000000  127.000000  \n",
       "mean    16.047244    6.330709  \n",
       "std      8.739491    1.755061  \n",
       "min      1.000000    3.000000  \n",
       "25%      9.000000    5.000000  \n",
       "50%     16.000000    6.000000  \n",
       "75%     23.000000    8.000000  \n",
       "max     31.000000    9.000000  "
      ]
     },
     "execution_count": 11,
     "metadata": {},
     "output_type": "execute_result"
    }
   ],
   "source": [
    "MSFT_df.describe()"
   ]
  },
  {
   "cell_type": "markdown",
   "metadata": {},
   "source": [
    "# Check if columns has missing values "
   ]
  },
  {
   "cell_type": "code",
   "execution_count": 12,
   "metadata": {},
   "outputs": [
    {
     "name": "stdout",
     "output_type": "stream",
     "text": [
      "does column Date has null values? False\n",
      "does column Close/Last has null values? False\n",
      "does column Volume has null values? False\n",
      "does column Open has null values? False\n",
      "does column High has null values? False\n",
      "does column Low has null values? False\n",
      "does column day has null values? False\n",
      "does column month has null values? False\n"
     ]
    }
   ],
   "source": [
    "a=[]\n",
    "a=MSFT_df.columns\n",
    "for i in a:\n",
    "    print(f'does column {i} has null values? {MSFT_df[i].isnull().any()}')\n"
   ]
  },
  {
   "cell_type": "markdown",
   "metadata": {},
   "source": [
    "## so,there is no NAN (missing values) in MSFT data"
   ]
  },
  {
   "cell_type": "markdown",
   "metadata": {},
   "source": [
    "# Exploratory Data Analysis"
   ]
  },
  {
   "cell_type": "code",
   "execution_count": 13,
   "metadata": {},
   "outputs": [
    {
     "data": {
      "text/plain": [
       "<seaborn.axisgrid.FacetGrid at 0x21a39edcac8>"
      ]
     },
     "execution_count": 13,
     "metadata": {},
     "output_type": "execute_result"
    },
    {
     "data": {
      "image/png": "[encoded data removed]",
      "text/plain": [
       "<Figure size 360x360 with 1 Axes>"
      ]
     },
     "metadata": {
      "needs_background": "light"
     },
     "output_type": "display_data"
    }
   ],
   "source": [
    "sns.catplot(x = \"month\", y = \"High\", data = MSFT_df, kind = \"bar\", height = 5)"
   ]
  },
  {
   "cell_type": "code",
   "execution_count": 31,
   "metadata": {
    "scrolled": true
   },
   "outputs": [
    {
     "data": {
      "text/plain": [
       "<seaborn.axisgrid.FacetGrid at 0x21a3be0b588>"
      ]
     },
     "execution_count": 31,
     "metadata": {},
     "output_type": "execute_result"
    },
    {
     "data": {
      "image/png": "[encoded data removed]",
      "text/plain": [
       "<Figure size 288x288 with 1 Axes>"
      ]
     },
     "metadata": {
      "needs_background": "light"
     },
     "output_type": "display_data"
    }
   ],
   "source": [
    "sns.catplot(x = \"month\", y = \"Low\", data = MSFT_df, kind = \"bar\", height = 4)"
   ]
  },
  {
   "cell_type": "markdown",
   "metadata": {},
   "source": [
    "### adding column for deffernce between Openning and Closing"
   ]
  },
  {
   "cell_type": "code",
   "execution_count": 15,
   "metadata": {},
   "outputs": [],
   "source": [
    "MSFT_df['close-open']=MSFT_df[\"Close/Last\"]-MSFT_df[\"Open\"]"
   ]
  },
  {
   "cell_type": "markdown",
   "metadata": {},
   "source": [
    "## mean (Average) values over last 6 months"
   ]
  },
  {
   "cell_type": "code",
   "execution_count": 16,
   "metadata": {
    "scrolled": true
   },
   "outputs": [
    {
     "data": {
      "text/html": [
       "<div>\n",
       "<style scoped>\n",
       "    .dataframe tbody tr th:only-of-type {\n",
       "        vertical-align: middle;\n",
       "    }\n",
       "\n",
       "    .dataframe tbody tr th {\n",
       "        vertical-align: top;\n",
       "    }\n",
       "\n",
       "    .dataframe thead th {\n",
       "        text-align: right;\n",
       "    }\n",
       "</style>\n",
       "<table border=\"1\" class=\"dataframe\">\n",
       "  <thead>\n",
       "    <tr style=\"text-align: right;\">\n",
       "      <th></th>\n",
       "      <th>Close/Last</th>\n",
       "      <th>Volume</th>\n",
       "      <th>Open</th>\n",
       "      <th>High</th>\n",
       "      <th>Low</th>\n",
       "      <th>day</th>\n",
       "      <th>close-open</th>\n",
       "    </tr>\n",
       "    <tr>\n",
       "      <th>month</th>\n",
       "      <th></th>\n",
       "      <th></th>\n",
       "      <th></th>\n",
       "      <th></th>\n",
       "      <th></th>\n",
       "      <th></th>\n",
       "      <th></th>\n",
       "    </tr>\n",
       "  </thead>\n",
       "  <tbody>\n",
       "    <tr>\n",
       "      <td>3</td>\n",
       "      <td>234.835000</td>\n",
       "      <td>2.978070e+07</td>\n",
       "      <td>233.643750</td>\n",
       "      <td>236.615000</td>\n",
       "      <td>231.730000</td>\n",
       "      <td>29.000000</td>\n",
       "      <td>1.191250</td>\n",
       "    </tr>\n",
       "    <tr>\n",
       "      <td>4</td>\n",
       "      <td>255.580000</td>\n",
       "      <td>2.708087e+07</td>\n",
       "      <td>254.699810</td>\n",
       "      <td>256.993995</td>\n",
       "      <td>253.231548</td>\n",
       "      <td>16.714286</td>\n",
       "      <td>0.880190</td>\n",
       "    </tr>\n",
       "    <tr>\n",
       "      <td>5</td>\n",
       "      <td>247.395500</td>\n",
       "      <td>2.475288e+07</td>\n",
       "      <td>247.689700</td>\n",
       "      <td>249.481500</td>\n",
       "      <td>245.737000</td>\n",
       "      <td>15.500000</td>\n",
       "      <td>-0.294200</td>\n",
       "    </tr>\n",
       "    <tr>\n",
       "      <td>6</td>\n",
       "      <td>259.018409</td>\n",
       "      <td>2.311692e+07</td>\n",
       "      <td>258.317727</td>\n",
       "      <td>260.356664</td>\n",
       "      <td>256.875195</td>\n",
       "      <td>15.318182</td>\n",
       "      <td>0.700682</td>\n",
       "    </tr>\n",
       "    <tr>\n",
       "      <td>7</td>\n",
       "      <td>281.502381</td>\n",
       "      <td>2.488996e+07</td>\n",
       "      <td>281.022667</td>\n",
       "      <td>283.025476</td>\n",
       "      <td>278.994395</td>\n",
       "      <td>16.571429</td>\n",
       "      <td>0.479714</td>\n",
       "    </tr>\n",
       "    <tr>\n",
       "      <td>8</td>\n",
       "      <td>294.314091</td>\n",
       "      <td>2.006029e+07</td>\n",
       "      <td>293.607545</td>\n",
       "      <td>295.776923</td>\n",
       "      <td>291.877605</td>\n",
       "      <td>15.954545</td>\n",
       "      <td>0.706545</td>\n",
       "    </tr>\n",
       "    <tr>\n",
       "      <td>9</td>\n",
       "      <td>299.455882</td>\n",
       "      <td>2.220446e+07</td>\n",
       "      <td>300.011471</td>\n",
       "      <td>301.597071</td>\n",
       "      <td>297.460529</td>\n",
       "      <td>13.235294</td>\n",
       "      <td>-0.555588</td>\n",
       "    </tr>\n",
       "  </tbody>\n",
       "</table>\n",
       "</div>"
      ],
      "text/plain": [
       "       Close/Last        Volume        Open        High         Low  \\\n",
       "month                                                                 \n",
       "3      234.835000  2.978070e+07  233.643750  236.615000  231.730000   \n",
       "4      255.580000  2.708087e+07  254.699810  256.993995  253.231548   \n",
       "5      247.395500  2.475288e+07  247.689700  249.481500  245.737000   \n",
       "6      259.018409  2.311692e+07  258.317727  260.356664  256.875195   \n",
       "7      281.502381  2.488996e+07  281.022667  283.025476  278.994395   \n",
       "8      294.314091  2.006029e+07  293.607545  295.776923  291.877605   \n",
       "9      299.455882  2.220446e+07  300.011471  301.597071  297.460529   \n",
       "\n",
       "             day  close-open  \n",
       "month                         \n",
       "3      29.000000    1.191250  \n",
       "4      16.714286    0.880190  \n",
       "5      15.500000   -0.294200  \n",
       "6      15.318182    0.700682  \n",
       "7      16.571429    0.479714  \n",
       "8      15.954545    0.706545  \n",
       "9      13.235294   -0.555588  "
      ]
     },
     "execution_count": 16,
     "metadata": {},
     "output_type": "execute_result"
    }
   ],
   "source": [
    "MSFT_df.groupby('month').mean()    "
   ]
  },
  {
   "cell_type": "markdown",
   "metadata": {},
   "source": [
    "## Maximum 'High' Values in past 6 months"
   ]
  },
  {
   "cell_type": "code",
   "execution_count": 26,
   "metadata": {},
   "outputs": [
    {
     "data": {
      "text/plain": [
       "[<matplotlib.lines.Line2D at 0x21a3bda09c8>]"
      ]
     },
     "execution_count": 26,
     "metadata": {},
     "output_type": "execute_result"
    },
    {
     "data": {
      "image/png": "[encoded data removed]",
      "text/plain": [
       "<Figure size 432x288 with 1 Axes>"
      ]
     },
     "metadata": {
      "needs_background": "light"
     },
     "output_type": "display_data"
    }
   ],
   "source": [
    "plt.plot(MSFT_df.groupby('month')['High'].max())"
   ]
  },
  {
   "cell_type": "markdown",
   "metadata": {},
   "source": [
    "## minimum 'High' Values in past 6 months"
   ]
  },
  {
   "cell_type": "code",
   "execution_count": 29,
   "metadata": {
    "scrolled": true
   },
   "outputs": [
    {
     "data": {
      "text/plain": [
       "[<matplotlib.lines.Line2D at 0x21a3be0bf08>]"
      ]
     },
     "execution_count": 29,
     "metadata": {},
     "output_type": "execute_result"
    },
    {
     "data": {
      "image/png": "[encoded data removed]",
      "text/plain": [
       "<Figure size 432x288 with 1 Axes>"
      ]
     },
     "metadata": {
      "needs_background": "light"
     },
     "output_type": "display_data"
    }
   ],
   "source": [
    "plt.plot(MSFT_df.groupby('month')['High'].min())"
   ]
  },
  {
   "cell_type": "markdown",
   "metadata": {},
   "source": [
    "## Maximum 'Close/Last' Values in past 6 months"
   ]
  },
  {
   "cell_type": "code",
   "execution_count": 30,
   "metadata": {
    "scrolled": true
   },
   "outputs": [
    {
     "data": {
      "text/plain": [
       "[<matplotlib.lines.Line2D at 0x21a3be6be48>]"
      ]
     },
     "execution_count": 30,
     "metadata": {},
     "output_type": "execute_result"
    },
    {
     "data": {
      "image/png": "[encoded data removed]",
      "text/plain": [
       "<Figure size 432x288 with 1 Axes>"
      ]
     },
     "metadata": {
      "needs_background": "light"
     },
     "output_type": "display_data"
    }
   ],
   "source": [
    "plt.plot(MSFT_df.groupby('month')['Close/Last'].max())"
   ]
  },
  {
   "cell_type": "markdown",
   "metadata": {},
   "source": [
    "## Minmum 'Close/Last' Values in past 6 months"
   ]
  },
  {
   "cell_type": "code",
   "execution_count": 32,
   "metadata": {},
   "outputs": [
    {
     "data": {
      "text/plain": [
       "[<matplotlib.lines.Line2D at 0x21a3bf5dd88>]"
      ]
     },
     "execution_count": 32,
     "metadata": {},
     "output_type": "execute_result"
    },
    {
     "data": {
      "image/png": "[encoded data removed]",
      "text/plain": [
       "<Figure size 432x288 with 1 Axes>"
      ]
     },
     "metadata": {
      "needs_background": "light"
     },
     "output_type": "display_data"
    }
   ],
   "source": [
    "plt.plot(MSFT_df.groupby('month')['Close/Last'].min())"
   ]
  },
  {
   "cell_type": "markdown",
   "metadata": {},
   "source": [
    "#   "
   ]
  },
  {
   "cell_type": "markdown",
   "metadata": {},
   "source": [
    "# AMZN Stock Data"
   ]
  },
  {
   "cell_type": "code",
   "execution_count": 39,
   "metadata": {},
   "outputs": [],
   "source": [
    "AMZN_df=pd.read_csv('HistoricalData_AMZN.csv')"
   ]
  },
  {
   "cell_type": "markdown",
   "metadata": {},
   "source": [
    "# checking data and explore columns type"
   ]
  },
  {
   "cell_type": "code",
   "execution_count": 40,
   "metadata": {},
   "outputs": [
    {
     "data": {
      "text/html": [
       "<div>\n",
       "<style scoped>\n",
       "    .dataframe tbody tr th:only-of-type {\n",
       "        vertical-align: middle;\n",
       "    }\n",
       "\n",
       "    .dataframe tbody tr th {\n",
       "        vertical-align: top;\n",
       "    }\n",
       "\n",
       "    .dataframe thead th {\n",
       "        text-align: right;\n",
       "    }\n",
       "</style>\n",
       "<table border=\"1\" class=\"dataframe\">\n",
       "  <thead>\n",
       "    <tr style=\"text-align: right;\">\n",
       "      <th></th>\n",
       "      <th>Date</th>\n",
       "      <th>Close/Last</th>\n",
       "      <th>Volume</th>\n",
       "      <th>Open</th>\n",
       "      <th>High</th>\n",
       "      <th>Low</th>\n",
       "    </tr>\n",
       "  </thead>\n",
       "  <tbody>\n",
       "    <tr>\n",
       "      <td>0</td>\n",
       "      <td>09/24/2021</td>\n",
       "      <td>$3425.52</td>\n",
       "      <td>2116241</td>\n",
       "      <td>$3402.01</td>\n",
       "      <td>$3429.26</td>\n",
       "      <td>$3393.4</td>\n",
       "    </tr>\n",
       "    <tr>\n",
       "      <td>1</td>\n",
       "      <td>09/23/2021</td>\n",
       "      <td>$3416</td>\n",
       "      <td>2379414</td>\n",
       "      <td>$3380.05</td>\n",
       "      <td>$3428.96</td>\n",
       "      <td>$3380.05</td>\n",
       "    </tr>\n",
       "    <tr>\n",
       "      <td>2</td>\n",
       "      <td>09/22/2021</td>\n",
       "      <td>$3380.05</td>\n",
       "      <td>2411403</td>\n",
       "      <td>$3351</td>\n",
       "      <td>$3389</td>\n",
       "      <td>$3341.05</td>\n",
       "    </tr>\n",
       "    <tr>\n",
       "      <td>3</td>\n",
       "      <td>09/21/2021</td>\n",
       "      <td>$3343.63</td>\n",
       "      <td>2780878</td>\n",
       "      <td>$3375</td>\n",
       "      <td>$3379.7</td>\n",
       "      <td>$3332.39</td>\n",
       "    </tr>\n",
       "    <tr>\n",
       "      <td>4</td>\n",
       "      <td>09/20/2021</td>\n",
       "      <td>$3355.73</td>\n",
       "      <td>4669130</td>\n",
       "      <td>$3396</td>\n",
       "      <td>$3419</td>\n",
       "      <td>$3305.01</td>\n",
       "    </tr>\n",
       "  </tbody>\n",
       "</table>\n",
       "</div>"
      ],
      "text/plain": [
       "         Date Close/Last   Volume      Open      High       Low\n",
       "0  09/24/2021   $3425.52  2116241  $3402.01  $3429.26   $3393.4\n",
       "1  09/23/2021      $3416  2379414  $3380.05  $3428.96  $3380.05\n",
       "2  09/22/2021   $3380.05  2411403     $3351     $3389  $3341.05\n",
       "3  09/21/2021   $3343.63  2780878     $3375   $3379.7  $3332.39\n",
       "4  09/20/2021   $3355.73  4669130     $3396     $3419  $3305.01"
      ]
     },
     "execution_count": 40,
     "metadata": {},
     "output_type": "execute_result"
    }
   ],
   "source": [
    "AMZN_df.head(5)"
   ]
  },
  {
   "cell_type": "code",
   "execution_count": 41,
   "metadata": {},
   "outputs": [
    {
     "name": "stdout",
     "output_type": "stream",
     "text": [
      "<class 'pandas.core.frame.DataFrame'>\n",
      "RangeIndex: 126 entries, 0 to 125\n",
      "Data columns (total 6 columns):\n",
      "Date          126 non-null object\n",
      "Close/Last    126 non-null object\n",
      "Volume        126 non-null int64\n",
      "Open          126 non-null object\n",
      "High          126 non-null object\n",
      "Low           126 non-null object\n",
      "dtypes: int64(1), object(5)\n",
      "memory usage: 6.0+ KB\n"
     ]
    }
   ],
   "source": [
    "AMZN_df.info()"
   ]
  },
  {
   "cell_type": "markdown",
   "metadata": {},
   "source": [
    "#  Removing  \" Dollar sign\" from 'Close/Last','Open','High','Low' culomns"
   ]
  },
  {
   "cell_type": "code",
   "execution_count": 42,
   "metadata": {},
   "outputs": [],
   "source": [
    "\n",
    "string_col=['Date','Close/Last','Open','High','Low']\n",
    "for col in string_col:\n",
    "    AMZN_df[col] = AMZN_df[col].map(lambda x: str(x).replace('$',''))"
   ]
  },
  {
   "cell_type": "markdown",
   "metadata": {},
   "source": [
    "# Splitting \"Date\" cloumn into (day,month,and year) then, droping it and drop \"year\" column beacause our data is only 6months ,so year would not affect our model."
   ]
  },
  {
   "cell_type": "code",
   "execution_count": 43,
   "metadata": {},
   "outputs": [],
   "source": [
    "AMZN_df[\"day\"] = AMZN_df['Date'].map(lambda x: pd.to_datetime(x).day)\n",
    "AMZN_df[\"month\"] = AMZN_df['Date'].map(lambda x: pd.to_datetime(x).month)\n",
    "AMZN_df[\"year\"] = AMZN_df['Date'].map(lambda x: pd.to_datetime(x).year)"
   ]
  },
  {
   "cell_type": "code",
   "execution_count": 44,
   "metadata": {},
   "outputs": [],
   "source": [
    "AMZN_df = AMZN_df.drop([\"Date\",\"year\"],axis =1 )"
   ]
  },
  {
   "cell_type": "markdown",
   "metadata": {},
   "source": [
    "# converting columns types to numerical"
   ]
  },
  {
   "cell_type": "code",
   "execution_count": 45,
   "metadata": {},
   "outputs": [],
   "source": [
    "string_2_float=['Close/Last','Open','High','Low']\n",
    "AMZN_df['day'] = AMZN_df['day'].apply(int)\n",
    "AMZN_df['month'] = AMZN_df['month'].apply(int)\n",
    "for col in string_2_float:\n",
    "    AMZN_df[col] = AMZN_df[col].apply(float)"
   ]
  },
  {
   "cell_type": "markdown",
   "metadata": {},
   "source": [
    "### The result of data is : "
   ]
  },
  {
   "cell_type": "code",
   "execution_count": 46,
   "metadata": {},
   "outputs": [
    {
     "data": {
      "text/html": [
       "<div>\n",
       "<style scoped>\n",
       "    .dataframe tbody tr th:only-of-type {\n",
       "        vertical-align: middle;\n",
       "    }\n",
       "\n",
       "    .dataframe tbody tr th {\n",
       "        vertical-align: top;\n",
       "    }\n",
       "\n",
       "    .dataframe thead th {\n",
       "        text-align: right;\n",
       "    }\n",
       "</style>\n",
       "<table border=\"1\" class=\"dataframe\">\n",
       "  <thead>\n",
       "    <tr style=\"text-align: right;\">\n",
       "      <th></th>\n",
       "      <th>Close/Last</th>\n",
       "      <th>Volume</th>\n",
       "      <th>Open</th>\n",
       "      <th>High</th>\n",
       "      <th>Low</th>\n",
       "      <th>day</th>\n",
       "      <th>month</th>\n",
       "    </tr>\n",
       "  </thead>\n",
       "  <tbody>\n",
       "    <tr>\n",
       "      <td>0</td>\n",
       "      <td>3425.52</td>\n",
       "      <td>2116241</td>\n",
       "      <td>3402.01</td>\n",
       "      <td>3429.26</td>\n",
       "      <td>3393.40</td>\n",
       "      <td>24</td>\n",
       "      <td>9</td>\n",
       "    </tr>\n",
       "    <tr>\n",
       "      <td>1</td>\n",
       "      <td>3416.00</td>\n",
       "      <td>2379414</td>\n",
       "      <td>3380.05</td>\n",
       "      <td>3428.96</td>\n",
       "      <td>3380.05</td>\n",
       "      <td>23</td>\n",
       "      <td>9</td>\n",
       "    </tr>\n",
       "    <tr>\n",
       "      <td>2</td>\n",
       "      <td>3380.05</td>\n",
       "      <td>2411403</td>\n",
       "      <td>3351.00</td>\n",
       "      <td>3389.00</td>\n",
       "      <td>3341.05</td>\n",
       "      <td>22</td>\n",
       "      <td>9</td>\n",
       "    </tr>\n",
       "    <tr>\n",
       "      <td>3</td>\n",
       "      <td>3343.63</td>\n",
       "      <td>2780878</td>\n",
       "      <td>3375.00</td>\n",
       "      <td>3379.70</td>\n",
       "      <td>3332.39</td>\n",
       "      <td>21</td>\n",
       "      <td>9</td>\n",
       "    </tr>\n",
       "    <tr>\n",
       "      <td>4</td>\n",
       "      <td>3355.73</td>\n",
       "      <td>4669130</td>\n",
       "      <td>3396.00</td>\n",
       "      <td>3419.00</td>\n",
       "      <td>3305.01</td>\n",
       "      <td>20</td>\n",
       "      <td>9</td>\n",
       "    </tr>\n",
       "  </tbody>\n",
       "</table>\n",
       "</div>"
      ],
      "text/plain": [
       "   Close/Last   Volume     Open     High      Low  day  month\n",
       "0     3425.52  2116241  3402.01  3429.26  3393.40   24      9\n",
       "1     3416.00  2379414  3380.05  3428.96  3380.05   23      9\n",
       "2     3380.05  2411403  3351.00  3389.00  3341.05   22      9\n",
       "3     3343.63  2780878  3375.00  3379.70  3332.39   21      9\n",
       "4     3355.73  4669130  3396.00  3419.00  3305.01   20      9"
      ]
     },
     "execution_count": 46,
     "metadata": {},
     "output_type": "execute_result"
    }
   ],
   "source": [
    "AMZN_df.head(5)"
   ]
  },
  {
   "cell_type": "code",
   "execution_count": 47,
   "metadata": {},
   "outputs": [
    {
     "name": "stdout",
     "output_type": "stream",
     "text": [
      "<class 'pandas.core.frame.DataFrame'>\n",
      "RangeIndex: 126 entries, 0 to 125\n",
      "Data columns (total 7 columns):\n",
      "Close/Last    126 non-null float64\n",
      "Volume        126 non-null int64\n",
      "Open          126 non-null float64\n",
      "High          126 non-null float64\n",
      "Low           126 non-null float64\n",
      "day           126 non-null int64\n",
      "month         126 non-null int64\n",
      "dtypes: float64(4), int64(3)\n",
      "memory usage: 7.0 KB\n"
     ]
    }
   ],
   "source": [
    "AMZN_df.info()"
   ]
  },
  {
   "cell_type": "code",
   "execution_count": 48,
   "metadata": {},
   "outputs": [
    {
     "data": {
      "text/html": [
       "<div>\n",
       "<style scoped>\n",
       "    .dataframe tbody tr th:only-of-type {\n",
       "        vertical-align: middle;\n",
       "    }\n",
       "\n",
       "    .dataframe tbody tr th {\n",
       "        vertical-align: top;\n",
       "    }\n",
       "\n",
       "    .dataframe thead th {\n",
       "        text-align: right;\n",
       "    }\n",
       "</style>\n",
       "<table border=\"1\" class=\"dataframe\">\n",
       "  <thead>\n",
       "    <tr style=\"text-align: right;\">\n",
       "      <th></th>\n",
       "      <th>Close/Last</th>\n",
       "      <th>Volume</th>\n",
       "      <th>Open</th>\n",
       "      <th>High</th>\n",
       "      <th>Low</th>\n",
       "      <th>day</th>\n",
       "      <th>month</th>\n",
       "    </tr>\n",
       "  </thead>\n",
       "  <tbody>\n",
       "    <tr>\n",
       "      <td>count</td>\n",
       "      <td>126.000000</td>\n",
       "      <td>1.260000e+02</td>\n",
       "      <td>126.000000</td>\n",
       "      <td>126.000000</td>\n",
       "      <td>126.000000</td>\n",
       "      <td>126.000000</td>\n",
       "      <td>126.000000</td>\n",
       "    </tr>\n",
       "    <tr>\n",
       "      <td>mean</td>\n",
       "      <td>3381.898095</td>\n",
       "      <td>3.355987e+06</td>\n",
       "      <td>3381.396675</td>\n",
       "      <td>3410.380580</td>\n",
       "      <td>3351.344528</td>\n",
       "      <td>15.968254</td>\n",
       "      <td>6.357143</td>\n",
       "    </tr>\n",
       "    <tr>\n",
       "      <td>std</td>\n",
       "      <td>149.284062</td>\n",
       "      <td>1.251255e+06</td>\n",
       "      <td>151.039057</td>\n",
       "      <td>152.228518</td>\n",
       "      <td>145.894676</td>\n",
       "      <td>8.728745</td>\n",
       "      <td>1.736499</td>\n",
       "    </tr>\n",
       "    <tr>\n",
       "      <td>min</td>\n",
       "      <td>3055.290000</td>\n",
       "      <td>1.680306e+06</td>\n",
       "      <td>3055.439000</td>\n",
       "      <td>3073.000000</td>\n",
       "      <td>3028.445000</td>\n",
       "      <td>1.000000</td>\n",
       "      <td>3.000000</td>\n",
       "    </tr>\n",
       "    <tr>\n",
       "      <td>25%</td>\n",
       "      <td>3270.427500</td>\n",
       "      <td>2.476100e+06</td>\n",
       "      <td>3275.318250</td>\n",
       "      <td>3298.185000</td>\n",
       "      <td>3234.987500</td>\n",
       "      <td>9.000000</td>\n",
       "      <td>5.000000</td>\n",
       "    </tr>\n",
       "    <tr>\n",
       "      <td>50%</td>\n",
       "      <td>3369.125000</td>\n",
       "      <td>3.119550e+06</td>\n",
       "      <td>3364.212500</td>\n",
       "      <td>3389.000000</td>\n",
       "      <td>3332.920000</td>\n",
       "      <td>16.000000</td>\n",
       "      <td>6.000000</td>\n",
       "    </tr>\n",
       "    <tr>\n",
       "      <td>75%</td>\n",
       "      <td>3470.380000</td>\n",
       "      <td>3.784162e+06</td>\n",
       "      <td>3477.605000</td>\n",
       "      <td>3497.822500</td>\n",
       "      <td>3437.512800</td>\n",
       "      <td>23.000000</td>\n",
       "      <td>8.000000</td>\n",
       "    </tr>\n",
       "    <tr>\n",
       "      <td>max</td>\n",
       "      <td>3731.410000</td>\n",
       "      <td>9.965593e+06</td>\n",
       "      <td>3744.000000</td>\n",
       "      <td>3773.078200</td>\n",
       "      <td>3696.792900</td>\n",
       "      <td>31.000000</td>\n",
       "      <td>9.000000</td>\n",
       "    </tr>\n",
       "  </tbody>\n",
       "</table>\n",
       "</div>"
      ],
      "text/plain": [
       "        Close/Last        Volume         Open         High          Low  \\\n",
       "count   126.000000  1.260000e+02   126.000000   126.000000   126.000000   \n",
       "mean   3381.898095  3.355987e+06  3381.396675  3410.380580  3351.344528   \n",
       "std     149.284062  1.251255e+06   151.039057   152.228518   145.894676   \n",
       "min    3055.290000  1.680306e+06  3055.439000  3073.000000  3028.445000   \n",
       "25%    3270.427500  2.476100e+06  3275.318250  3298.185000  3234.987500   \n",
       "50%    3369.125000  3.119550e+06  3364.212500  3389.000000  3332.920000   \n",
       "75%    3470.380000  3.784162e+06  3477.605000  3497.822500  3437.512800   \n",
       "max    3731.410000  9.965593e+06  3744.000000  3773.078200  3696.792900   \n",
       "\n",
       "              day       month  \n",
       "count  126.000000  126.000000  \n",
       "mean    15.968254    6.357143  \n",
       "std      8.728745    1.736499  \n",
       "min      1.000000    3.000000  \n",
       "25%      9.000000    5.000000  \n",
       "50%     16.000000    6.000000  \n",
       "75%     23.000000    8.000000  \n",
       "max     31.000000    9.000000  "
      ]
     },
     "execution_count": 48,
     "metadata": {},
     "output_type": "execute_result"
    }
   ],
   "source": [
    "AMZN_df.describe()"
   ]
  },
  {
   "cell_type": "markdown",
   "metadata": {},
   "source": [
    "# Check if columns has missing values "
   ]
  },
  {
   "cell_type": "code",
   "execution_count": 49,
   "metadata": {},
   "outputs": [
    {
     "name": "stdout",
     "output_type": "stream",
     "text": [
      "does column Close/Last has null values? False\n",
      "does column Volume has null values? False\n",
      "does column Open has null values? False\n",
      "does column High has null values? False\n",
      "does column Low has null values? False\n",
      "does column day has null values? False\n",
      "does column month has null values? False\n"
     ]
    }
   ],
   "source": [
    "a=[]\n",
    "a=AMZN_df.columns\n",
    "for i in a:\n",
    "    print(f'does column {i} has null values? {AMZN_df[i].isnull().any()}')\n"
   ]
  },
  {
   "cell_type": "markdown",
   "metadata": {},
   "source": [
    "## so,there is no NAN (missing values) in AMZN data"
   ]
  },
  {
   "cell_type": "markdown",
   "metadata": {},
   "source": [
    "# Exploratory Data Analysis"
   ]
  },
  {
   "cell_type": "code",
   "execution_count": 50,
   "metadata": {},
   "outputs": [
    {
     "data": {
      "text/plain": [
       "<seaborn.axisgrid.FacetGrid at 0x21a3c1c5ec8>"
      ]
     },
     "execution_count": 50,
     "metadata": {},
     "output_type": "execute_result"
    },
    {
     "data": {
      "image/png": "[encoded data removed]",
      "text/plain": [
       "<Figure size 360x360 with 1 Axes>"
      ]
     },
     "metadata": {
      "needs_background": "light"
     },
     "output_type": "display_data"
    }
   ],
   "source": [
    "sns.catplot(x = \"month\", y = \"High\", data = AMZN_df, kind = \"bar\", height = 5)"
   ]
  },
  {
   "cell_type": "code",
   "execution_count": 51,
   "metadata": {
    "scrolled": true
   },
   "outputs": [
    {
     "data": {
      "text/plain": [
       "<seaborn.axisgrid.FacetGrid at 0x21a3c1bde08>"
      ]
     },
     "execution_count": 51,
     "metadata": {},
     "output_type": "execute_result"
    },
    {
     "data": {
      "image/png": "[encoded data removed]",
      "text/plain": [
       "<Figure size 288x288 with 1 Axes>"
      ]
     },
     "metadata": {
      "needs_background": "light"
     },
     "output_type": "display_data"
    }
   ],
   "source": [
    "sns.catplot(x = \"month\", y = \"Low\", data = AMZN_df, kind = \"bar\", height = 4)"
   ]
  },
  {
   "cell_type": "markdown",
   "metadata": {},
   "source": [
    "### adding column for deffernce between Openning and Closing"
   ]
  },
  {
   "cell_type": "code",
   "execution_count": 52,
   "metadata": {},
   "outputs": [],
   "source": [
    "AMZN_df['close-open']=AMZN_df[\"Close/Last\"]-AMZN_df[\"Open\"]"
   ]
  },
  {
   "cell_type": "markdown",
   "metadata": {},
   "source": [
    "## mean (Average) values over last 6 months"
   ]
  },
  {
   "cell_type": "code",
   "execution_count": 53,
   "metadata": {
    "scrolled": true
   },
   "outputs": [
    {
     "data": {
      "text/html": [
       "<div>\n",
       "<style scoped>\n",
       "    .dataframe tbody tr th:only-of-type {\n",
       "        vertical-align: middle;\n",
       "    }\n",
       "\n",
       "    .dataframe tbody tr th {\n",
       "        vertical-align: top;\n",
       "    }\n",
       "\n",
       "    .dataframe thead th {\n",
       "        text-align: right;\n",
       "    }\n",
       "</style>\n",
       "<table border=\"1\" class=\"dataframe\">\n",
       "  <thead>\n",
       "    <tr style=\"text-align: right;\">\n",
       "      <th></th>\n",
       "      <th>Close/Last</th>\n",
       "      <th>Volume</th>\n",
       "      <th>Open</th>\n",
       "      <th>High</th>\n",
       "      <th>Low</th>\n",
       "      <th>day</th>\n",
       "      <th>close-open</th>\n",
       "    </tr>\n",
       "    <tr>\n",
       "      <th>month</th>\n",
       "      <th></th>\n",
       "      <th></th>\n",
       "      <th></th>\n",
       "      <th></th>\n",
       "      <th></th>\n",
       "      <th></th>\n",
       "      <th></th>\n",
       "    </tr>\n",
       "  </thead>\n",
       "  <tbody>\n",
       "    <tr>\n",
       "      <td>3</td>\n",
       "      <td>3075.033333</td>\n",
       "      <td>2.725822e+06</td>\n",
       "      <td>3063.169667</td>\n",
       "      <td>3094.526667</td>\n",
       "      <td>3041.648333</td>\n",
       "      <td>30.000000</td>\n",
       "      <td>11.863667</td>\n",
       "    </tr>\n",
       "    <tr>\n",
       "      <td>4</td>\n",
       "      <td>3352.174286</td>\n",
       "      <td>3.659218e+06</td>\n",
       "      <td>3347.732524</td>\n",
       "      <td>3383.686462</td>\n",
       "      <td>3320.005529</td>\n",
       "      <td>16.714286</td>\n",
       "      <td>4.441762</td>\n",
       "    </tr>\n",
       "    <tr>\n",
       "      <td>5</td>\n",
       "      <td>3246.260000</td>\n",
       "      <td>3.757665e+06</td>\n",
       "      <td>3261.308260</td>\n",
       "      <td>3285.698225</td>\n",
       "      <td>3221.329545</td>\n",
       "      <td>15.500000</td>\n",
       "      <td>-15.048260</td>\n",
       "    </tr>\n",
       "    <tr>\n",
       "      <td>6</td>\n",
       "      <td>3367.725455</td>\n",
       "      <td>3.045961e+06</td>\n",
       "      <td>3360.013409</td>\n",
       "      <td>3387.669795</td>\n",
       "      <td>3339.959995</td>\n",
       "      <td>15.318182</td>\n",
       "      <td>7.712045</td>\n",
       "    </tr>\n",
       "    <tr>\n",
       "      <td>7</td>\n",
       "      <td>3616.006190</td>\n",
       "      <td>3.987445e+06</td>\n",
       "      <td>3612.711048</td>\n",
       "      <td>3647.416852</td>\n",
       "      <td>3575.027781</td>\n",
       "      <td>16.571429</td>\n",
       "      <td>3.295143</td>\n",
       "    </tr>\n",
       "    <tr>\n",
       "      <td>8</td>\n",
       "      <td>3312.917727</td>\n",
       "      <td>2.857590e+06</td>\n",
       "      <td>3310.760682</td>\n",
       "      <td>3334.938486</td>\n",
       "      <td>3283.299818</td>\n",
       "      <td>15.954545</td>\n",
       "      <td>2.157045</td>\n",
       "    </tr>\n",
       "    <tr>\n",
       "      <td>9</td>\n",
       "      <td>3450.760000</td>\n",
       "      <td>2.886210e+06</td>\n",
       "      <td>3453.762459</td>\n",
       "      <td>3479.991576</td>\n",
       "      <td>3424.144659</td>\n",
       "      <td>13.235294</td>\n",
       "      <td>-3.002459</td>\n",
       "    </tr>\n",
       "  </tbody>\n",
       "</table>\n",
       "</div>"
      ],
      "text/plain": [
       "        Close/Last        Volume         Open         High          Low  \\\n",
       "month                                                                     \n",
       "3      3075.033333  2.725822e+06  3063.169667  3094.526667  3041.648333   \n",
       "4      3352.174286  3.659218e+06  3347.732524  3383.686462  3320.005529   \n",
       "5      3246.260000  3.757665e+06  3261.308260  3285.698225  3221.329545   \n",
       "6      3367.725455  3.045961e+06  3360.013409  3387.669795  3339.959995   \n",
       "7      3616.006190  3.987445e+06  3612.711048  3647.416852  3575.027781   \n",
       "8      3312.917727  2.857590e+06  3310.760682  3334.938486  3283.299818   \n",
       "9      3450.760000  2.886210e+06  3453.762459  3479.991576  3424.144659   \n",
       "\n",
       "             day  close-open  \n",
       "month                         \n",
       "3      30.000000   11.863667  \n",
       "4      16.714286    4.441762  \n",
       "5      15.500000  -15.048260  \n",
       "6      15.318182    7.712045  \n",
       "7      16.571429    3.295143  \n",
       "8      15.954545    2.157045  \n",
       "9      13.235294   -3.002459  "
      ]
     },
     "execution_count": 53,
     "metadata": {},
     "output_type": "execute_result"
    }
   ],
   "source": [
    "AMZN_df.groupby('month').mean()    "
   ]
  },
  {
   "cell_type": "markdown",
   "metadata": {},
   "source": [
    "## Maximum 'High' Values in past 6 months"
   ]
  },
  {
   "cell_type": "code",
   "execution_count": 54,
   "metadata": {},
   "outputs": [
    {
     "data": {
      "text/plain": [
       "[<matplotlib.lines.Line2D at 0x21a3c30c808>]"
      ]
     },
     "execution_count": 54,
     "metadata": {},
     "output_type": "execute_result"
    },
    {
     "data": {
      "image/png": "[encoded data removed]",
      "text/plain": [
       "<Figure size 432x288 with 1 Axes>"
      ]
     },
     "metadata": {
      "needs_background": "light"
     },
     "output_type": "display_data"
    }
   ],
   "source": [
    "plt.plot(AMZN_df.groupby('month')['High'].max())"
   ]
  },
  {
   "cell_type": "markdown",
   "metadata": {},
   "source": [
    "## minimum 'High' Values in past 6 months"
   ]
  },
  {
   "cell_type": "code",
   "execution_count": 55,
   "metadata": {
    "scrolled": true
   },
   "outputs": [
    {
     "data": {
      "text/plain": [
       "[<matplotlib.lines.Line2D at 0x21a3c36ed08>]"
      ]
     },
     "execution_count": 55,
     "metadata": {},
     "output_type": "execute_result"
    },
    {
     "data": {
      "image/png": "[encoded data removed]",
      "text/plain": [
       "<Figure size 432x288 with 1 Axes>"
      ]
     },
     "metadata": {
      "needs_background": "light"
     },
     "output_type": "display_data"
    }
   ],
   "source": [
    "plt.plot(AMZN_df.groupby('month')['High'].min())"
   ]
  },
  {
   "cell_type": "markdown",
   "metadata": {},
   "source": [
    "## Maximum 'Close/Last' Values in past 6 months"
   ]
  },
  {
   "cell_type": "code",
   "execution_count": 56,
   "metadata": {
    "scrolled": true
   },
   "outputs": [
    {
     "data": {
      "text/plain": [
       "[<matplotlib.lines.Line2D at 0x21a3c3dc848>]"
      ]
     },
     "execution_count": 56,
     "metadata": {},
     "output_type": "execute_result"
    },
    {
     "data": {
      "image/png": "[encoded data removed]",
      "text/plain": [
       "<Figure size 432x288 with 1 Axes>"
      ]
     },
     "metadata": {
      "needs_background": "light"
     },
     "output_type": "display_data"
    }
   ],
   "source": [
    "plt.plot(AMZN_df.groupby('month')['Close/Last'].max())"
   ]
  },
  {
   "cell_type": "markdown",
   "metadata": {},
   "source": [
    "## Minmum 'Close/Last' Values in past 6 months"
   ]
  },
  {
   "cell_type": "code",
   "execution_count": 97,
   "metadata": {
    "scrolled": true
   },
   "outputs": [
    {
     "data": {
      "text/plain": [
       "[<matplotlib.lines.Line2D at 0x21a3da1dbc8>]"
      ]
     },
     "execution_count": 97,
     "metadata": {},
     "output_type": "execute_result"
    },
    {
     "data": {
      "image/png": "[encoded data removed]",
      "text/plain": [
       "<Figure size 432x288 with 1 Axes>"
      ]
     },
     "metadata": {
      "needs_background": "light"
     },
     "output_type": "display_data"
    }
   ],
   "source": [
    "plt.plot(AMZN_df.groupby('month')['Close/Last'].min())"
   ]
  },
  {
   "cell_type": "markdown",
   "metadata": {},
   "source": [
    "#   "
   ]
  },
  {
   "cell_type": "markdown",
   "metadata": {},
   "source": [
    "# APPLE Stock Data"
   ]
  },
  {
   "cell_type": "code",
   "execution_count": 58,
   "metadata": {},
   "outputs": [],
   "source": [
    "APPLE_df=pd.read_csv('HistoricalData_APPLE.csv')"
   ]
  },
  {
   "cell_type": "markdown",
   "metadata": {},
   "source": [
    "# checking data and explore columns type"
   ]
  },
  {
   "cell_type": "code",
   "execution_count": 59,
   "metadata": {},
   "outputs": [
    {
     "data": {
      "text/html": [
       "<div>\n",
       "<style scoped>\n",
       "    .dataframe tbody tr th:only-of-type {\n",
       "        vertical-align: middle;\n",
       "    }\n",
       "\n",
       "    .dataframe tbody tr th {\n",
       "        vertical-align: top;\n",
       "    }\n",
       "\n",
       "    .dataframe thead th {\n",
       "        text-align: right;\n",
       "    }\n",
       "</style>\n",
       "<table border=\"1\" class=\"dataframe\">\n",
       "  <thead>\n",
       "    <tr style=\"text-align: right;\">\n",
       "      <th></th>\n",
       "      <th>Date</th>\n",
       "      <th>Close/Last</th>\n",
       "      <th>Volume</th>\n",
       "      <th>Open</th>\n",
       "      <th>High</th>\n",
       "      <th>Low</th>\n",
       "    </tr>\n",
       "  </thead>\n",
       "  <tbody>\n",
       "    <tr>\n",
       "      <td>0</td>\n",
       "      <td>09/24/2021</td>\n",
       "      <td>$146.92</td>\n",
       "      <td>53477870</td>\n",
       "      <td>$145.66</td>\n",
       "      <td>$147.4701</td>\n",
       "      <td>$145.56</td>\n",
       "    </tr>\n",
       "    <tr>\n",
       "      <td>1</td>\n",
       "      <td>09/23/2021</td>\n",
       "      <td>$146.83</td>\n",
       "      <td>64838170</td>\n",
       "      <td>$146.65</td>\n",
       "      <td>$147.08</td>\n",
       "      <td>$145.64</td>\n",
       "    </tr>\n",
       "    <tr>\n",
       "      <td>2</td>\n",
       "      <td>09/22/2021</td>\n",
       "      <td>$145.85</td>\n",
       "      <td>76404340</td>\n",
       "      <td>$144.45</td>\n",
       "      <td>$146.43</td>\n",
       "      <td>$143.7001</td>\n",
       "    </tr>\n",
       "    <tr>\n",
       "      <td>3</td>\n",
       "      <td>09/21/2021</td>\n",
       "      <td>$143.43</td>\n",
       "      <td>75833960</td>\n",
       "      <td>$143.93</td>\n",
       "      <td>$144.6</td>\n",
       "      <td>$142.78</td>\n",
       "    </tr>\n",
       "    <tr>\n",
       "      <td>4</td>\n",
       "      <td>09/20/2021</td>\n",
       "      <td>$142.94</td>\n",
       "      <td>123478900</td>\n",
       "      <td>$143.8</td>\n",
       "      <td>$144.84</td>\n",
       "      <td>$141.27</td>\n",
       "    </tr>\n",
       "  </tbody>\n",
       "</table>\n",
       "</div>"
      ],
      "text/plain": [
       "         Date Close/Last     Volume     Open       High        Low\n",
       "0  09/24/2021    $146.92   53477870  $145.66  $147.4701    $145.56\n",
       "1  09/23/2021    $146.83   64838170  $146.65    $147.08    $145.64\n",
       "2  09/22/2021    $145.85   76404340  $144.45    $146.43  $143.7001\n",
       "3  09/21/2021    $143.43   75833960  $143.93     $144.6    $142.78\n",
       "4  09/20/2021    $142.94  123478900   $143.8    $144.84    $141.27"
      ]
     },
     "execution_count": 59,
     "metadata": {},
     "output_type": "execute_result"
    }
   ],
   "source": [
    "APPLE_df.head(5)"
   ]
  },
  {
   "cell_type": "code",
   "execution_count": 60,
   "metadata": {},
   "outputs": [
    {
     "name": "stdout",
     "output_type": "stream",
     "text": [
      "<class 'pandas.core.frame.DataFrame'>\n",
      "RangeIndex: 127 entries, 0 to 126\n",
      "Data columns (total 6 columns):\n",
      "Date          127 non-null object\n",
      "Close/Last    127 non-null object\n",
      "Volume        127 non-null int64\n",
      "Open          127 non-null object\n",
      "High          127 non-null object\n",
      "Low           127 non-null object\n",
      "dtypes: int64(1), object(5)\n",
      "memory usage: 6.1+ KB\n"
     ]
    }
   ],
   "source": [
    "APPLE_df.info()"
   ]
  },
  {
   "cell_type": "markdown",
   "metadata": {},
   "source": [
    "#  Removing  \" Dollar sign\" from 'Close/Last','Open','High','Low' culomns"
   ]
  },
  {
   "cell_type": "code",
   "execution_count": 61,
   "metadata": {},
   "outputs": [],
   "source": [
    "\n",
    "string_col=['Date','Close/Last','Open','High','Low']\n",
    "for col in string_col:\n",
    "    APPLE_df[col] = APPLE_df[col].map(lambda x: str(x).replace('$',''))"
   ]
  },
  {
   "cell_type": "markdown",
   "metadata": {},
   "source": [
    "# Splitting \"Date\" cloumn into (day,month,and year) then, droping it and drop \"year\" column beacause our data is only 6months ,so year would not affect our model."
   ]
  },
  {
   "cell_type": "code",
   "execution_count": 62,
   "metadata": {},
   "outputs": [],
   "source": [
    "APPLE_df[\"day\"] = APPLE_df['Date'].map(lambda x: pd.to_datetime(x).day)\n",
    "APPLE_df[\"month\"] = APPLE_df['Date'].map(lambda x: pd.to_datetime(x).month)\n",
    "APPLE_df[\"year\"] = APPLE_df['Date'].map(lambda x: pd.to_datetime(x).year)"
   ]
  },
  {
   "cell_type": "code",
   "execution_count": 63,
   "metadata": {},
   "outputs": [],
   "source": [
    "APPLE_df = APPLE_df.drop([\"Date\",\"year\"],axis =1 )"
   ]
  },
  {
   "cell_type": "markdown",
   "metadata": {},
   "source": [
    "# converting columns types to numerical"
   ]
  },
  {
   "cell_type": "code",
   "execution_count": 64,
   "metadata": {},
   "outputs": [],
   "source": [
    "string_2_float=['Close/Last','Open','High','Low']\n",
    "APPLE_df['day'] = APPLE_df['day'].apply(int)\n",
    "APPLE_df['month'] = APPLE_df['month'].apply(int)\n",
    "for col in string_2_float:\n",
    "    APPLE_df[col] = APPLE_df[col].apply(float)"
   ]
  },
  {
   "cell_type": "markdown",
   "metadata": {},
   "source": [
    "### The result of data is : "
   ]
  },
  {
   "cell_type": "code",
   "execution_count": 65,
   "metadata": {},
   "outputs": [
    {
     "data": {
      "text/html": [
       "<div>\n",
       "<style scoped>\n",
       "    .dataframe tbody tr th:only-of-type {\n",
       "        vertical-align: middle;\n",
       "    }\n",
       "\n",
       "    .dataframe tbody tr th {\n",
       "        vertical-align: top;\n",
       "    }\n",
       "\n",
       "    .dataframe thead th {\n",
       "        text-align: right;\n",
       "    }\n",
       "</style>\n",
       "<table border=\"1\" class=\"dataframe\">\n",
       "  <thead>\n",
       "    <tr style=\"text-align: right;\">\n",
       "      <th></th>\n",
       "      <th>Close/Last</th>\n",
       "      <th>Volume</th>\n",
       "      <th>Open</th>\n",
       "      <th>High</th>\n",
       "      <th>Low</th>\n",
       "      <th>day</th>\n",
       "      <th>month</th>\n",
       "    </tr>\n",
       "  </thead>\n",
       "  <tbody>\n",
       "    <tr>\n",
       "      <td>0</td>\n",
       "      <td>146.92</td>\n",
       "      <td>53477870</td>\n",
       "      <td>145.66</td>\n",
       "      <td>147.4701</td>\n",
       "      <td>145.5600</td>\n",
       "      <td>24</td>\n",
       "      <td>9</td>\n",
       "    </tr>\n",
       "    <tr>\n",
       "      <td>1</td>\n",
       "      <td>146.83</td>\n",
       "      <td>64838170</td>\n",
       "      <td>146.65</td>\n",
       "      <td>147.0800</td>\n",
       "      <td>145.6400</td>\n",
       "      <td>23</td>\n",
       "      <td>9</td>\n",
       "    </tr>\n",
       "    <tr>\n",
       "      <td>2</td>\n",
       "      <td>145.85</td>\n",
       "      <td>76404340</td>\n",
       "      <td>144.45</td>\n",
       "      <td>146.4300</td>\n",
       "      <td>143.7001</td>\n",
       "      <td>22</td>\n",
       "      <td>9</td>\n",
       "    </tr>\n",
       "    <tr>\n",
       "      <td>3</td>\n",
       "      <td>143.43</td>\n",
       "      <td>75833960</td>\n",
       "      <td>143.93</td>\n",
       "      <td>144.6000</td>\n",
       "      <td>142.7800</td>\n",
       "      <td>21</td>\n",
       "      <td>9</td>\n",
       "    </tr>\n",
       "    <tr>\n",
       "      <td>4</td>\n",
       "      <td>142.94</td>\n",
       "      <td>123478900</td>\n",
       "      <td>143.80</td>\n",
       "      <td>144.8400</td>\n",
       "      <td>141.2700</td>\n",
       "      <td>20</td>\n",
       "      <td>9</td>\n",
       "    </tr>\n",
       "  </tbody>\n",
       "</table>\n",
       "</div>"
      ],
      "text/plain": [
       "   Close/Last     Volume    Open      High       Low  day  month\n",
       "0      146.92   53477870  145.66  147.4701  145.5600   24      9\n",
       "1      146.83   64838170  146.65  147.0800  145.6400   23      9\n",
       "2      145.85   76404340  144.45  146.4300  143.7001   22      9\n",
       "3      143.43   75833960  143.93  144.6000  142.7800   21      9\n",
       "4      142.94  123478900  143.80  144.8400  141.2700   20      9"
      ]
     },
     "execution_count": 65,
     "metadata": {},
     "output_type": "execute_result"
    }
   ],
   "source": [
    "APPLE_df.head(5)"
   ]
  },
  {
   "cell_type": "code",
   "execution_count": 66,
   "metadata": {},
   "outputs": [
    {
     "name": "stdout",
     "output_type": "stream",
     "text": [
      "<class 'pandas.core.frame.DataFrame'>\n",
      "RangeIndex: 127 entries, 0 to 126\n",
      "Data columns (total 7 columns):\n",
      "Close/Last    127 non-null float64\n",
      "Volume        127 non-null int64\n",
      "Open          127 non-null float64\n",
      "High          127 non-null float64\n",
      "Low           127 non-null float64\n",
      "day           127 non-null int64\n",
      "month         127 non-null int64\n",
      "dtypes: float64(4), int64(3)\n",
      "memory usage: 7.1 KB\n"
     ]
    }
   ],
   "source": [
    "APPLE_df.info()"
   ]
  },
  {
   "cell_type": "code",
   "execution_count": 67,
   "metadata": {},
   "outputs": [
    {
     "data": {
      "text/html": [
       "<div>\n",
       "<style scoped>\n",
       "    .dataframe tbody tr th:only-of-type {\n",
       "        vertical-align: middle;\n",
       "    }\n",
       "\n",
       "    .dataframe tbody tr th {\n",
       "        vertical-align: top;\n",
       "    }\n",
       "\n",
       "    .dataframe thead th {\n",
       "        text-align: right;\n",
       "    }\n",
       "</style>\n",
       "<table border=\"1\" class=\"dataframe\">\n",
       "  <thead>\n",
       "    <tr style=\"text-align: right;\">\n",
       "      <th></th>\n",
       "      <th>Close/Last</th>\n",
       "      <th>Volume</th>\n",
       "      <th>Open</th>\n",
       "      <th>High</th>\n",
       "      <th>Low</th>\n",
       "      <th>day</th>\n",
       "      <th>month</th>\n",
       "    </tr>\n",
       "  </thead>\n",
       "  <tbody>\n",
       "    <tr>\n",
       "      <td>count</td>\n",
       "      <td>127.000000</td>\n",
       "      <td>1.270000e+02</td>\n",
       "      <td>127.000000</td>\n",
       "      <td>127.000000</td>\n",
       "      <td>127.000000</td>\n",
       "      <td>127.000000</td>\n",
       "      <td>127.000000</td>\n",
       "    </tr>\n",
       "    <tr>\n",
       "      <td>mean</td>\n",
       "      <td>137.780669</td>\n",
       "      <td>8.205383e+07</td>\n",
       "      <td>137.647362</td>\n",
       "      <td>138.907427</td>\n",
       "      <td>136.510209</td>\n",
       "      <td>16.047244</td>\n",
       "      <td>6.330709</td>\n",
       "    </tr>\n",
       "    <tr>\n",
       "      <td>std</td>\n",
       "      <td>10.041910</td>\n",
       "      <td>2.144567e+07</td>\n",
       "      <td>10.122762</td>\n",
       "      <td>10.170515</td>\n",
       "      <td>9.950175</td>\n",
       "      <td>8.739491</td>\n",
       "      <td>1.755061</td>\n",
       "    </tr>\n",
       "    <tr>\n",
       "      <td>min</td>\n",
       "      <td>119.900000</td>\n",
       "      <td>4.639767e+07</td>\n",
       "      <td>120.110000</td>\n",
       "      <td>120.403100</td>\n",
       "      <td>118.860000</td>\n",
       "      <td>1.000000</td>\n",
       "      <td>3.000000</td>\n",
       "    </tr>\n",
       "    <tr>\n",
       "      <td>25%</td>\n",
       "      <td>127.875000</td>\n",
       "      <td>6.646044e+07</td>\n",
       "      <td>127.855000</td>\n",
       "      <td>129.645000</td>\n",
       "      <td>126.755000</td>\n",
       "      <td>9.000000</td>\n",
       "      <td>5.000000</td>\n",
       "    </tr>\n",
       "    <tr>\n",
       "      <td>50%</td>\n",
       "      <td>134.780000</td>\n",
       "      <td>7.875678e+07</td>\n",
       "      <td>135.010000</td>\n",
       "      <td>135.530000</td>\n",
       "      <td>133.640000</td>\n",
       "      <td>16.000000</td>\n",
       "      <td>6.000000</td>\n",
       "    </tr>\n",
       "    <tr>\n",
       "      <td>75%</td>\n",
       "      <td>146.815000</td>\n",
       "      <td>9.416772e+07</td>\n",
       "      <td>146.815000</td>\n",
       "      <td>148.120000</td>\n",
       "      <td>145.785000</td>\n",
       "      <td>23.000000</td>\n",
       "      <td>8.000000</td>\n",
       "    </tr>\n",
       "    <tr>\n",
       "      <td>max</td>\n",
       "      <td>156.690000</td>\n",
       "      <td>1.511010e+08</td>\n",
       "      <td>156.980000</td>\n",
       "      <td>157.260000</td>\n",
       "      <td>154.390000</td>\n",
       "      <td>31.000000</td>\n",
       "      <td>9.000000</td>\n",
       "    </tr>\n",
       "  </tbody>\n",
       "</table>\n",
       "</div>"
      ],
      "text/plain": [
       "       Close/Last        Volume        Open        High         Low  \\\n",
       "count  127.000000  1.270000e+02  127.000000  127.000000  127.000000   \n",
       "mean   137.780669  8.205383e+07  137.647362  138.907427  136.510209   \n",
       "std     10.041910  2.144567e+07   10.122762   10.170515    9.950175   \n",
       "min    119.900000  4.639767e+07  120.110000  120.403100  118.860000   \n",
       "25%    127.875000  6.646044e+07  127.855000  129.645000  126.755000   \n",
       "50%    134.780000  7.875678e+07  135.010000  135.530000  133.640000   \n",
       "75%    146.815000  9.416772e+07  146.815000  148.120000  145.785000   \n",
       "max    156.690000  1.511010e+08  156.980000  157.260000  154.390000   \n",
       "\n",
       "              day       month  \n",
       "count  127.000000  127.000000  \n",
       "mean    16.047244    6.330709  \n",
       "std      8.739491    1.755061  \n",
       "min      1.000000    3.000000  \n",
       "25%      9.000000    5.000000  \n",
       "50%     16.000000    6.000000  \n",
       "75%     23.000000    8.000000  \n",
       "max     31.000000    9.000000  "
      ]
     },
     "execution_count": 67,
     "metadata": {},
     "output_type": "execute_result"
    }
   ],
   "source": [
    "APPLE_df.describe()"
   ]
  },
  {
   "cell_type": "markdown",
   "metadata": {},
   "source": [
    "# Check if columns has missing values "
   ]
  },
  {
   "cell_type": "code",
   "execution_count": 68,
   "metadata": {},
   "outputs": [
    {
     "name": "stdout",
     "output_type": "stream",
     "text": [
      "does column Close/Last has null values? False\n",
      "does column Volume has null values? False\n",
      "does column Open has null values? False\n",
      "does column High has null values? False\n",
      "does column Low has null values? False\n",
      "does column day has null values? False\n",
      "does column month has null values? False\n"
     ]
    }
   ],
   "source": [
    "a=[]\n",
    "a=APPLE_df.columns\n",
    "for i in a:\n",
    "    print(f'does column {i} has null values? {APPLE_df[i].isnull().any()}')\n"
   ]
  },
  {
   "cell_type": "markdown",
   "metadata": {},
   "source": [
    "## so,there is no NAN (missing values) in APPLE data"
   ]
  },
  {
   "cell_type": "markdown",
   "metadata": {},
   "source": [
    "# Exploratory Data Analysis"
   ]
  },
  {
   "cell_type": "code",
   "execution_count": 69,
   "metadata": {},
   "outputs": [
    {
     "data": {
      "text/plain": [
       "<seaborn.axisgrid.FacetGrid at 0x21a3c3b5448>"
      ]
     },
     "execution_count": 69,
     "metadata": {},
     "output_type": "execute_result"
    },
    {
     "data": {
      "image/png": "[encoded data removed]",
      "text/plain": [
       "<Figure size 360x360 with 1 Axes>"
      ]
     },
     "metadata": {
      "needs_background": "light"
     },
     "output_type": "display_data"
    }
   ],
   "source": [
    "sns.catplot(x = \"month\", y = \"High\", data = APPLE_df, kind = \"bar\", height = 5)"
   ]
  },
  {
   "cell_type": "code",
   "execution_count": 70,
   "metadata": {
    "scrolled": true
   },
   "outputs": [
    {
     "data": {
      "text/plain": [
       "<seaborn.axisgrid.FacetGrid at 0x21a3c52ed08>"
      ]
     },
     "execution_count": 70,
     "metadata": {},
     "output_type": "execute_result"
    },
    {
     "data": {
      "image/png": "[encoded data removed]",
      "text/plain": [
       "<Figure size 288x288 with 1 Axes>"
      ]
     },
     "metadata": {
      "needs_background": "light"
     },
     "output_type": "display_data"
    }
   ],
   "source": [
    "sns.catplot(x = \"month\", y = \"Low\", data = APPLE_df, kind = \"bar\", height = 4)"
   ]
  },
  {
   "cell_type": "markdown",
   "metadata": {},
   "source": [
    "### adding column for deffernce between Openning and Closing"
   ]
  },
  {
   "cell_type": "code",
   "execution_count": 71,
   "metadata": {},
   "outputs": [],
   "source": [
    "APPLE_df['close-open']=APPLE_df[\"Close/Last\"]- APPLE_df[\"Open\"]"
   ]
  },
  {
   "cell_type": "markdown",
   "metadata": {},
   "source": [
    "## mean (Average) values over last 6 months"
   ]
  },
  {
   "cell_type": "code",
   "execution_count": 72,
   "metadata": {
    "scrolled": true
   },
   "outputs": [
    {
     "data": {
      "text/html": [
       "<div>\n",
       "<style scoped>\n",
       "    .dataframe tbody tr th:only-of-type {\n",
       "        vertical-align: middle;\n",
       "    }\n",
       "\n",
       "    .dataframe tbody tr th {\n",
       "        vertical-align: top;\n",
       "    }\n",
       "\n",
       "    .dataframe thead th {\n",
       "        text-align: right;\n",
       "    }\n",
       "</style>\n",
       "<table border=\"1\" class=\"dataframe\">\n",
       "  <thead>\n",
       "    <tr style=\"text-align: right;\">\n",
       "      <th></th>\n",
       "      <th>Close/Last</th>\n",
       "      <th>Volume</th>\n",
       "      <th>Open</th>\n",
       "      <th>High</th>\n",
       "      <th>Low</th>\n",
       "      <th>day</th>\n",
       "      <th>close-open</th>\n",
       "    </tr>\n",
       "    <tr>\n",
       "      <th>month</th>\n",
       "      <th></th>\n",
       "      <th></th>\n",
       "      <th></th>\n",
       "      <th></th>\n",
       "      <th></th>\n",
       "      <th></th>\n",
       "      <th></th>\n",
       "    </tr>\n",
       "  </thead>\n",
       "  <tbody>\n",
       "    <tr>\n",
       "      <td>3</td>\n",
       "      <td>121.162500</td>\n",
       "      <td>9.472154e+07</td>\n",
       "      <td>120.940000</td>\n",
       "      <td>121.995775</td>\n",
       "      <td>119.914975</td>\n",
       "      <td>29.000000</td>\n",
       "      <td>0.222500</td>\n",
       "    </tr>\n",
       "    <tr>\n",
       "      <td>4</td>\n",
       "      <td>131.812619</td>\n",
       "      <td>8.999794e+07</td>\n",
       "      <td>131.672381</td>\n",
       "      <td>132.911433</td>\n",
       "      <td>130.464767</td>\n",
       "      <td>16.714286</td>\n",
       "      <td>0.140238</td>\n",
       "    </tr>\n",
       "    <tr>\n",
       "      <td>5</td>\n",
       "      <td>126.784000</td>\n",
       "      <td>8.559035e+07</td>\n",
       "      <td>127.034750</td>\n",
       "      <td>128.157655</td>\n",
       "      <td>125.823750</td>\n",
       "      <td>15.500000</td>\n",
       "      <td>-0.250750</td>\n",
       "    </tr>\n",
       "    <tr>\n",
       "      <td>6</td>\n",
       "      <td>129.958636</td>\n",
       "      <td>7.302682e+07</td>\n",
       "      <td>129.489545</td>\n",
       "      <td>130.651591</td>\n",
       "      <td>128.761509</td>\n",
       "      <td>15.318182</td>\n",
       "      <td>0.469091</td>\n",
       "    </tr>\n",
       "    <tr>\n",
       "      <td>7</td>\n",
       "      <td>145.139524</td>\n",
       "      <td>9.138705e+07</td>\n",
       "      <td>144.569762</td>\n",
       "      <td>146.252019</td>\n",
       "      <td>143.538200</td>\n",
       "      <td>16.571429</td>\n",
       "      <td>0.569762</td>\n",
       "    </tr>\n",
       "    <tr>\n",
       "      <td>8</td>\n",
       "      <td>148.177727</td>\n",
       "      <td>6.651373e+07</td>\n",
       "      <td>147.850682</td>\n",
       "      <td>149.226336</td>\n",
       "      <td>146.865455</td>\n",
       "      <td>15.954545</td>\n",
       "      <td>0.327045</td>\n",
       "    </tr>\n",
       "    <tr>\n",
       "      <td>9</td>\n",
       "      <td>149.577647</td>\n",
       "      <td>8.536274e+07</td>\n",
       "      <td>150.246471</td>\n",
       "      <td>151.197653</td>\n",
       "      <td>148.400359</td>\n",
       "      <td>13.235294</td>\n",
       "      <td>-0.668824</td>\n",
       "    </tr>\n",
       "  </tbody>\n",
       "</table>\n",
       "</div>"
      ],
      "text/plain": [
       "       Close/Last        Volume        Open        High         Low  \\\n",
       "month                                                                 \n",
       "3      121.162500  9.472154e+07  120.940000  121.995775  119.914975   \n",
       "4      131.812619  8.999794e+07  131.672381  132.911433  130.464767   \n",
       "5      126.784000  8.559035e+07  127.034750  128.157655  125.823750   \n",
       "6      129.958636  7.302682e+07  129.489545  130.651591  128.761509   \n",
       "7      145.139524  9.138705e+07  144.569762  146.252019  143.538200   \n",
       "8      148.177727  6.651373e+07  147.850682  149.226336  146.865455   \n",
       "9      149.577647  8.536274e+07  150.246471  151.197653  148.400359   \n",
       "\n",
       "             day  close-open  \n",
       "month                         \n",
       "3      29.000000    0.222500  \n",
       "4      16.714286    0.140238  \n",
       "5      15.500000   -0.250750  \n",
       "6      15.318182    0.469091  \n",
       "7      16.571429    0.569762  \n",
       "8      15.954545    0.327045  \n",
       "9      13.235294   -0.668824  "
      ]
     },
     "execution_count": 72,
     "metadata": {},
     "output_type": "execute_result"
    }
   ],
   "source": [
    "APPLE_df.groupby('month').mean()    "
   ]
  },
  {
   "cell_type": "markdown",
   "metadata": {},
   "source": [
    "## Maximum 'High' Values in past 6 months"
   ]
  },
  {
   "cell_type": "code",
   "execution_count": 73,
   "metadata": {},
   "outputs": [
    {
     "data": {
      "text/plain": [
       "[<matplotlib.lines.Line2D at 0x21a3c5e0d88>]"
      ]
     },
     "execution_count": 73,
     "metadata": {},
     "output_type": "execute_result"
    },
    {
     "data": {
      "image/png": "[encoded data removed]",
      "text/plain": [
       "<Figure size 432x288 with 1 Axes>"
      ]
     },
     "metadata": {
      "needs_background": "light"
     },
     "output_type": "display_data"
    }
   ],
   "source": [
    "plt.plot(APPLE_df.groupby('month')['High'].max())"
   ]
  },
  {
   "cell_type": "markdown",
   "metadata": {},
   "source": [
    "## minimum 'High' Values in past 6 months"
   ]
  },
  {
   "cell_type": "code",
   "execution_count": 74,
   "metadata": {
    "scrolled": true
   },
   "outputs": [
    {
     "data": {
      "text/plain": [
       "[<matplotlib.lines.Line2D at 0x21a3c64f188>]"
      ]
     },
     "execution_count": 74,
     "metadata": {},
     "output_type": "execute_result"
    },
    {
     "data": {
      "image/png": "[encoded data removed]",
      "text/plain": [
       "<Figure size 432x288 with 1 Axes>"
      ]
     },
     "metadata": {
      "needs_background": "light"
     },
     "output_type": "display_data"
    }
   ],
   "source": [
    "plt.plot(APPLE_df.groupby('month')['High'].min())"
   ]
  },
  {
   "cell_type": "markdown",
   "metadata": {},
   "source": [
    "## Maximum 'Close/Last' Values in past 6 months"
   ]
  },
  {
   "cell_type": "code",
   "execution_count": 75,
   "metadata": {
    "scrolled": true
   },
   "outputs": [
    {
     "data": {
      "text/plain": [
       "[<matplotlib.lines.Line2D at 0x21a3c6b73c8>]"
      ]
     },
     "execution_count": 75,
     "metadata": {},
     "output_type": "execute_result"
    },
    {
     "data": {
      "image/png": "[encoded data removed]",
      "text/plain": [
       "<Figure size 432x288 with 1 Axes>"
      ]
     },
     "metadata": {
      "needs_background": "light"
     },
     "output_type": "display_data"
    }
   ],
   "source": [
    "plt.plot(APPLE_df.groupby('month')['Close/Last'].max())"
   ]
  },
  {
   "cell_type": "markdown",
   "metadata": {},
   "source": [
    "## Minmum 'Close/Last' Values in past 6 months"
   ]
  },
  {
   "cell_type": "code",
   "execution_count": 76,
   "metadata": {},
   "outputs": [
    {
     "data": {
      "text/plain": [
       "[<matplotlib.lines.Line2D at 0x21a3c721988>]"
      ]
     },
     "execution_count": 76,
     "metadata": {},
     "output_type": "execute_result"
    },
    {
     "data": {
      "image/png": "[encoded data removed]",
      "text/plain": [
       "<Figure size 432x288 with 1 Axes>"
      ]
     },
     "metadata": {
      "needs_background": "light"
     },
     "output_type": "display_data"
    }
   ],
   "source": [
    "plt.plot(APPLE_df.groupby('month')['Close/Last'].min())"
   ]
  },
  {
   "cell_type": "markdown",
   "metadata": {},
   "source": [
    "#   "
   ]
  },
  {
   "cell_type": "markdown",
   "metadata": {},
   "source": [
    "#   "
   ]
  },
  {
   "cell_type": "markdown",
   "metadata": {},
   "source": [
    "# IBM Stock Data"
   ]
  },
  {
   "cell_type": "code",
   "execution_count": 77,
   "metadata": {},
   "outputs": [],
   "source": [
    "IBM_df=pd.read_csv('HistoricalData_IBM.csv')"
   ]
  },
  {
   "cell_type": "markdown",
   "metadata": {},
   "source": [
    "# checking data and explore columns type"
   ]
  },
  {
   "cell_type": "code",
   "execution_count": 78,
   "metadata": {},
   "outputs": [
    {
     "data": {
      "text/html": [
       "<div>\n",
       "<style scoped>\n",
       "    .dataframe tbody tr th:only-of-type {\n",
       "        vertical-align: middle;\n",
       "    }\n",
       "\n",
       "    .dataframe tbody tr th {\n",
       "        vertical-align: top;\n",
       "    }\n",
       "\n",
       "    .dataframe thead th {\n",
       "        text-align: right;\n",
       "    }\n",
       "</style>\n",
       "<table border=\"1\" class=\"dataframe\">\n",
       "  <thead>\n",
       "    <tr style=\"text-align: right;\">\n",
       "      <th></th>\n",
       "      <th>Date</th>\n",
       "      <th>Close/Last</th>\n",
       "      <th>Volume</th>\n",
       "      <th>Open</th>\n",
       "      <th>High</th>\n",
       "      <th>Low</th>\n",
       "    </tr>\n",
       "  </thead>\n",
       "  <tbody>\n",
       "    <tr>\n",
       "      <td>0</td>\n",
       "      <td>09/24/2021</td>\n",
       "      <td>$137.49</td>\n",
       "      <td>2964397</td>\n",
       "      <td>$137.03</td>\n",
       "      <td>$138.48</td>\n",
       "      <td>$136.75</td>\n",
       "    </tr>\n",
       "    <tr>\n",
       "      <td>1</td>\n",
       "      <td>09/23/2021</td>\n",
       "      <td>$136.73</td>\n",
       "      <td>3013238</td>\n",
       "      <td>$135.25</td>\n",
       "      <td>$137.42</td>\n",
       "      <td>$135.03</td>\n",
       "    </tr>\n",
       "    <tr>\n",
       "      <td>2</td>\n",
       "      <td>09/22/2021</td>\n",
       "      <td>$134.63</td>\n",
       "      <td>3602416</td>\n",
       "      <td>$133.72</td>\n",
       "      <td>$135.37</td>\n",
       "      <td>$133.47</td>\n",
       "    </tr>\n",
       "    <tr>\n",
       "      <td>3</td>\n",
       "      <td>09/21/2021</td>\n",
       "      <td>$132.97</td>\n",
       "      <td>4074528</td>\n",
       "      <td>$135.11</td>\n",
       "      <td>$135.65</td>\n",
       "      <td>$132.94</td>\n",
       "    </tr>\n",
       "    <tr>\n",
       "      <td>4</td>\n",
       "      <td>09/20/2021</td>\n",
       "      <td>$134.31</td>\n",
       "      <td>4770651</td>\n",
       "      <td>$133.9</td>\n",
       "      <td>$135.18</td>\n",
       "      <td>$132.78</td>\n",
       "    </tr>\n",
       "  </tbody>\n",
       "</table>\n",
       "</div>"
      ],
      "text/plain": [
       "         Date Close/Last   Volume     Open     High      Low\n",
       "0  09/24/2021    $137.49  2964397  $137.03  $138.48  $136.75\n",
       "1  09/23/2021    $136.73  3013238  $135.25  $137.42  $135.03\n",
       "2  09/22/2021    $134.63  3602416  $133.72  $135.37  $133.47\n",
       "3  09/21/2021    $132.97  4074528  $135.11  $135.65  $132.94\n",
       "4  09/20/2021    $134.31  4770651   $133.9  $135.18  $132.78"
      ]
     },
     "execution_count": 78,
     "metadata": {},
     "output_type": "execute_result"
    }
   ],
   "source": [
    "IBM_df.head(5)"
   ]
  },
  {
   "cell_type": "code",
   "execution_count": 79,
   "metadata": {},
   "outputs": [
    {
     "name": "stdout",
     "output_type": "stream",
     "text": [
      "<class 'pandas.core.frame.DataFrame'>\n",
      "RangeIndex: 126 entries, 0 to 125\n",
      "Data columns (total 6 columns):\n",
      "Date          126 non-null object\n",
      "Close/Last    126 non-null object\n",
      "Volume        126 non-null int64\n",
      "Open          126 non-null object\n",
      "High          126 non-null object\n",
      "Low           126 non-null object\n",
      "dtypes: int64(1), object(5)\n",
      "memory usage: 6.0+ KB\n"
     ]
    }
   ],
   "source": [
    "IBM_df.info()"
   ]
  },
  {
   "cell_type": "markdown",
   "metadata": {},
   "source": [
    "#  Removing  \" Dollar sign\" from 'Close/Last','Open','High','Low' culomns"
   ]
  },
  {
   "cell_type": "code",
   "execution_count": 80,
   "metadata": {},
   "outputs": [],
   "source": [
    "\n",
    "string_col=['Date','Close/Last','Open','High','Low']\n",
    "for col in string_col:\n",
    "    IBM_df[col] = IBM_df[col].map(lambda x: str(x).replace('$',''))"
   ]
  },
  {
   "cell_type": "markdown",
   "metadata": {},
   "source": [
    "# Splitting \"Date\" cloumn into (day,month,and year) then, droping it and drop \"year\" column beacause our data is only 6months ,so year would not affect our model."
   ]
  },
  {
   "cell_type": "code",
   "execution_count": 81,
   "metadata": {},
   "outputs": [],
   "source": [
    "IBM_df[\"day\"] = IBM_df['Date'].map(lambda x: pd.to_datetime(x).day)\n",
    "IBM_df[\"month\"] = IBM_df['Date'].map(lambda x: pd.to_datetime(x).month)\n",
    "IBM_df[\"year\"] = IBM_df['Date'].map(lambda x: pd.to_datetime(x).year)"
   ]
  },
  {
   "cell_type": "code",
   "execution_count": 82,
   "metadata": {},
   "outputs": [],
   "source": [
    "IBM_df = IBM_df.drop([\"Date\",\"year\"],axis =1 )"
   ]
  },
  {
   "cell_type": "markdown",
   "metadata": {},
   "source": [
    "# converting columns types to numerical"
   ]
  },
  {
   "cell_type": "code",
   "execution_count": 83,
   "metadata": {},
   "outputs": [],
   "source": [
    "string_2_float=['Close/Last','Open','High','Low']\n",
    "IBM_df['day'] = IBM_df['day'].apply(int)\n",
    "IBM_df['month'] = IBM_df['month'].apply(int)\n",
    "for col in string_2_float:\n",
    "    IBM_df[col] = IBM_df[col].apply(float)"
   ]
  },
  {
   "cell_type": "markdown",
   "metadata": {},
   "source": [
    "### The result of data is : "
   ]
  },
  {
   "cell_type": "code",
   "execution_count": 85,
   "metadata": {},
   "outputs": [
    {
     "data": {
      "text/html": [
       "<div>\n",
       "<style scoped>\n",
       "    .dataframe tbody tr th:only-of-type {\n",
       "        vertical-align: middle;\n",
       "    }\n",
       "\n",
       "    .dataframe tbody tr th {\n",
       "        vertical-align: top;\n",
       "    }\n",
       "\n",
       "    .dataframe thead th {\n",
       "        text-align: right;\n",
       "    }\n",
       "</style>\n",
       "<table border=\"1\" class=\"dataframe\">\n",
       "  <thead>\n",
       "    <tr style=\"text-align: right;\">\n",
       "      <th></th>\n",
       "      <th>Close/Last</th>\n",
       "      <th>Volume</th>\n",
       "      <th>Open</th>\n",
       "      <th>High</th>\n",
       "      <th>Low</th>\n",
       "      <th>day</th>\n",
       "      <th>month</th>\n",
       "    </tr>\n",
       "  </thead>\n",
       "  <tbody>\n",
       "    <tr>\n",
       "      <td>0</td>\n",
       "      <td>137.49</td>\n",
       "      <td>2964397</td>\n",
       "      <td>137.03</td>\n",
       "      <td>138.48</td>\n",
       "      <td>136.75</td>\n",
       "      <td>24</td>\n",
       "      <td>9</td>\n",
       "    </tr>\n",
       "    <tr>\n",
       "      <td>1</td>\n",
       "      <td>136.73</td>\n",
       "      <td>3013238</td>\n",
       "      <td>135.25</td>\n",
       "      <td>137.42</td>\n",
       "      <td>135.03</td>\n",
       "      <td>23</td>\n",
       "      <td>9</td>\n",
       "    </tr>\n",
       "    <tr>\n",
       "      <td>2</td>\n",
       "      <td>134.63</td>\n",
       "      <td>3602416</td>\n",
       "      <td>133.72</td>\n",
       "      <td>135.37</td>\n",
       "      <td>133.47</td>\n",
       "      <td>22</td>\n",
       "      <td>9</td>\n",
       "    </tr>\n",
       "    <tr>\n",
       "      <td>3</td>\n",
       "      <td>132.97</td>\n",
       "      <td>4074528</td>\n",
       "      <td>135.11</td>\n",
       "      <td>135.65</td>\n",
       "      <td>132.94</td>\n",
       "      <td>21</td>\n",
       "      <td>9</td>\n",
       "    </tr>\n",
       "    <tr>\n",
       "      <td>4</td>\n",
       "      <td>134.31</td>\n",
       "      <td>4770651</td>\n",
       "      <td>133.90</td>\n",
       "      <td>135.18</td>\n",
       "      <td>132.78</td>\n",
       "      <td>20</td>\n",
       "      <td>9</td>\n",
       "    </tr>\n",
       "  </tbody>\n",
       "</table>\n",
       "</div>"
      ],
      "text/plain": [
       "   Close/Last   Volume    Open    High     Low  day  month\n",
       "0      137.49  2964397  137.03  138.48  136.75   24      9\n",
       "1      136.73  3013238  135.25  137.42  135.03   23      9\n",
       "2      134.63  3602416  133.72  135.37  133.47   22      9\n",
       "3      132.97  4074528  135.11  135.65  132.94   21      9\n",
       "4      134.31  4770651  133.90  135.18  132.78   20      9"
      ]
     },
     "execution_count": 85,
     "metadata": {},
     "output_type": "execute_result"
    }
   ],
   "source": [
    "IBM_df.head(5)"
   ]
  },
  {
   "cell_type": "code",
   "execution_count": 86,
   "metadata": {},
   "outputs": [
    {
     "name": "stdout",
     "output_type": "stream",
     "text": [
      "<class 'pandas.core.frame.DataFrame'>\n",
      "RangeIndex: 126 entries, 0 to 125\n",
      "Data columns (total 7 columns):\n",
      "Close/Last    126 non-null float64\n",
      "Volume        126 non-null int64\n",
      "Open          126 non-null float64\n",
      "High          126 non-null float64\n",
      "Low           126 non-null float64\n",
      "day           126 non-null int64\n",
      "month         126 non-null int64\n",
      "dtypes: float64(4), int64(3)\n",
      "memory usage: 7.0 KB\n"
     ]
    }
   ],
   "source": [
    "IBM_df.info()"
   ]
  },
  {
   "cell_type": "code",
   "execution_count": 87,
   "metadata": {},
   "outputs": [
    {
     "data": {
      "text/html": [
       "<div>\n",
       "<style scoped>\n",
       "    .dataframe tbody tr th:only-of-type {\n",
       "        vertical-align: middle;\n",
       "    }\n",
       "\n",
       "    .dataframe tbody tr th {\n",
       "        vertical-align: top;\n",
       "    }\n",
       "\n",
       "    .dataframe thead th {\n",
       "        text-align: right;\n",
       "    }\n",
       "</style>\n",
       "<table border=\"1\" class=\"dataframe\">\n",
       "  <thead>\n",
       "    <tr style=\"text-align: right;\">\n",
       "      <th></th>\n",
       "      <th>Close/Last</th>\n",
       "      <th>Volume</th>\n",
       "      <th>Open</th>\n",
       "      <th>High</th>\n",
       "      <th>Low</th>\n",
       "      <th>day</th>\n",
       "      <th>month</th>\n",
       "    </tr>\n",
       "  </thead>\n",
       "  <tbody>\n",
       "    <tr>\n",
       "      <td>count</td>\n",
       "      <td>126.000000</td>\n",
       "      <td>1.260000e+02</td>\n",
       "      <td>126.000000</td>\n",
       "      <td>126.000000</td>\n",
       "      <td>126.000000</td>\n",
       "      <td>126.000000</td>\n",
       "      <td>126.000000</td>\n",
       "    </tr>\n",
       "    <tr>\n",
       "      <td>mean</td>\n",
       "      <td>141.347302</td>\n",
       "      <td>4.429673e+06</td>\n",
       "      <td>141.401151</td>\n",
       "      <td>142.417757</td>\n",
       "      <td>140.375849</td>\n",
       "      <td>15.968254</td>\n",
       "      <td>6.357143</td>\n",
       "    </tr>\n",
       "    <tr>\n",
       "      <td>std</td>\n",
       "      <td>4.423316</td>\n",
       "      <td>2.393538e+06</td>\n",
       "      <td>4.392897</td>\n",
       "      <td>4.440016</td>\n",
       "      <td>4.364116</td>\n",
       "      <td>8.728745</td>\n",
       "      <td>1.736499</td>\n",
       "    </tr>\n",
       "    <tr>\n",
       "      <td>min</td>\n",
       "      <td>131.180000</td>\n",
       "      <td>1.910443e+06</td>\n",
       "      <td>131.305000</td>\n",
       "      <td>132.780000</td>\n",
       "      <td>130.380000</td>\n",
       "      <td>1.000000</td>\n",
       "      <td>3.000000</td>\n",
       "    </tr>\n",
       "    <tr>\n",
       "      <td>25%</td>\n",
       "      <td>138.697500</td>\n",
       "      <td>3.048210e+06</td>\n",
       "      <td>138.472500</td>\n",
       "      <td>139.631250</td>\n",
       "      <td>137.566250</td>\n",
       "      <td>9.000000</td>\n",
       "      <td>5.000000</td>\n",
       "    </tr>\n",
       "    <tr>\n",
       "      <td>50%</td>\n",
       "      <td>141.470000</td>\n",
       "      <td>3.886453e+06</td>\n",
       "      <td>141.680000</td>\n",
       "      <td>143.030000</td>\n",
       "      <td>140.880500</td>\n",
       "      <td>16.000000</td>\n",
       "      <td>6.000000</td>\n",
       "    </tr>\n",
       "    <tr>\n",
       "      <td>75%</td>\n",
       "      <td>144.235000</td>\n",
       "      <td>4.767610e+06</td>\n",
       "      <td>144.470000</td>\n",
       "      <td>145.696750</td>\n",
       "      <td>143.610000</td>\n",
       "      <td>23.000000</td>\n",
       "      <td>8.000000</td>\n",
       "    </tr>\n",
       "    <tr>\n",
       "      <td>max</td>\n",
       "      <td>151.280000</td>\n",
       "      <td>1.682816e+07</td>\n",
       "      <td>151.470000</td>\n",
       "      <td>152.840000</td>\n",
       "      <td>150.370000</td>\n",
       "      <td>31.000000</td>\n",
       "      <td>9.000000</td>\n",
       "    </tr>\n",
       "  </tbody>\n",
       "</table>\n",
       "</div>"
      ],
      "text/plain": [
       "       Close/Last        Volume        Open        High         Low  \\\n",
       "count  126.000000  1.260000e+02  126.000000  126.000000  126.000000   \n",
       "mean   141.347302  4.429673e+06  141.401151  142.417757  140.375849   \n",
       "std      4.423316  2.393538e+06    4.392897    4.440016    4.364116   \n",
       "min    131.180000  1.910443e+06  131.305000  132.780000  130.380000   \n",
       "25%    138.697500  3.048210e+06  138.472500  139.631250  137.566250   \n",
       "50%    141.470000  3.886453e+06  141.680000  143.030000  140.880500   \n",
       "75%    144.235000  4.767610e+06  144.470000  145.696750  143.610000   \n",
       "max    151.280000  1.682816e+07  151.470000  152.840000  150.370000   \n",
       "\n",
       "              day       month  \n",
       "count  126.000000  126.000000  \n",
       "mean    15.968254    6.357143  \n",
       "std      8.728745    1.736499  \n",
       "min      1.000000    3.000000  \n",
       "25%      9.000000    5.000000  \n",
       "50%     16.000000    6.000000  \n",
       "75%     23.000000    8.000000  \n",
       "max     31.000000    9.000000  "
      ]
     },
     "execution_count": 87,
     "metadata": {},
     "output_type": "execute_result"
    }
   ],
   "source": [
    "IBM_df.describe()"
   ]
  },
  {
   "cell_type": "markdown",
   "metadata": {},
   "source": [
    "# Check if columns has missing values "
   ]
  },
  {
   "cell_type": "code",
   "execution_count": 88,
   "metadata": {},
   "outputs": [
    {
     "name": "stdout",
     "output_type": "stream",
     "text": [
      "does column Close/Last has null values? False\n",
      "does column Volume has null values? False\n",
      "does column Open has null values? False\n",
      "does column High has null values? False\n",
      "does column Low has null values? False\n",
      "does column day has null values? False\n",
      "does column month has null values? False\n"
     ]
    }
   ],
   "source": [
    "a=[]\n",
    "a=IBM_df.columns\n",
    "for i in a:\n",
    "    print(f'does column {i} has null values? {IBM_df[i].isnull().any()}')\n"
   ]
  },
  {
   "cell_type": "markdown",
   "metadata": {},
   "source": [
    "## so,there is no NAN (missing values) in IBM data"
   ]
  },
  {
   "cell_type": "markdown",
   "metadata": {},
   "source": [
    "# Exploratory Data Analysis"
   ]
  },
  {
   "cell_type": "code",
   "execution_count": 89,
   "metadata": {},
   "outputs": [
    {
     "data": {
      "text/plain": [
       "<seaborn.axisgrid.FacetGrid at 0x21a3bf930c8>"
      ]
     },
     "execution_count": 89,
     "metadata": {},
     "output_type": "execute_result"
    },
    {
     "data": {
      "image/png": "[encoded data removed]",
      "text/plain": [
       "<Figure size 360x360 with 1 Axes>"
      ]
     },
     "metadata": {
      "needs_background": "light"
     },
     "output_type": "display_data"
    }
   ],
   "source": [
    "sns.catplot(x = \"month\", y = \"High\", data = IBM_df, kind = \"bar\", height = 5)"
   ]
  },
  {
   "cell_type": "code",
   "execution_count": 90,
   "metadata": {
    "scrolled": true
   },
   "outputs": [
    {
     "data": {
      "text/plain": [
       "<seaborn.axisgrid.FacetGrid at 0x21a3c798888>"
      ]
     },
     "execution_count": 90,
     "metadata": {},
     "output_type": "execute_result"
    },
    {
     "data": {
      "image/png": "[encoded data removed]",
      "text/plain": [
       "<Figure size 288x288 with 1 Axes>"
      ]
     },
     "metadata": {
      "needs_background": "light"
     },
     "output_type": "display_data"
    }
   ],
   "source": [
    "sns.catplot(x = \"month\", y = \"Low\", data = IBM_df, kind = \"bar\", height = 4)"
   ]
  },
  {
   "cell_type": "markdown",
   "metadata": {},
   "source": [
    "### adding column for deffernce between Openning and Closing"
   ]
  },
  {
   "cell_type": "code",
   "execution_count": 91,
   "metadata": {},
   "outputs": [],
   "source": [
    "IBM_df['close-open']=IBM_df[\"Close/Last\"]-IBM_df[\"Open\"]"
   ]
  },
  {
   "cell_type": "markdown",
   "metadata": {},
   "source": [
    "## mean (Average) values over last 6 months"
   ]
  },
  {
   "cell_type": "code",
   "execution_count": 92,
   "metadata": {
    "scrolled": true
   },
   "outputs": [
    {
     "data": {
      "text/html": [
       "<div>\n",
       "<style scoped>\n",
       "    .dataframe tbody tr th:only-of-type {\n",
       "        vertical-align: middle;\n",
       "    }\n",
       "\n",
       "    .dataframe tbody tr th {\n",
       "        vertical-align: top;\n",
       "    }\n",
       "\n",
       "    .dataframe thead th {\n",
       "        text-align: right;\n",
       "    }\n",
       "</style>\n",
       "<table border=\"1\" class=\"dataframe\">\n",
       "  <thead>\n",
       "    <tr style=\"text-align: right;\">\n",
       "      <th></th>\n",
       "      <th>Close/Last</th>\n",
       "      <th>Volume</th>\n",
       "      <th>Open</th>\n",
       "      <th>High</th>\n",
       "      <th>Low</th>\n",
       "      <th>day</th>\n",
       "      <th>close-open</th>\n",
       "    </tr>\n",
       "    <tr>\n",
       "      <th>month</th>\n",
       "      <th></th>\n",
       "      <th></th>\n",
       "      <th></th>\n",
       "      <th></th>\n",
       "      <th></th>\n",
       "      <th></th>\n",
       "      <th></th>\n",
       "    </tr>\n",
       "  </thead>\n",
       "  <tbody>\n",
       "    <tr>\n",
       "      <td>3</td>\n",
       "      <td>134.613333</td>\n",
       "      <td>4.786115e+06</td>\n",
       "      <td>135.460000</td>\n",
       "      <td>136.016667</td>\n",
       "      <td>134.080000</td>\n",
       "      <td>30.000000</td>\n",
       "      <td>-0.846667</td>\n",
       "    </tr>\n",
       "    <tr>\n",
       "      <td>4</td>\n",
       "      <td>137.379524</td>\n",
       "      <td>5.853357e+06</td>\n",
       "      <td>137.165000</td>\n",
       "      <td>138.577852</td>\n",
       "      <td>136.149048</td>\n",
       "      <td>16.714286</td>\n",
       "      <td>0.214524</td>\n",
       "    </tr>\n",
       "    <tr>\n",
       "      <td>5</td>\n",
       "      <td>144.521000</td>\n",
       "      <td>4.832958e+06</td>\n",
       "      <td>144.349000</td>\n",
       "      <td>145.484670</td>\n",
       "      <td>143.476210</td>\n",
       "      <td>15.500000</td>\n",
       "      <td>0.172000</td>\n",
       "    </tr>\n",
       "    <tr>\n",
       "      <td>6</td>\n",
       "      <td>147.078636</td>\n",
       "      <td>3.838590e+06</td>\n",
       "      <td>147.050909</td>\n",
       "      <td>148.073409</td>\n",
       "      <td>146.046914</td>\n",
       "      <td>15.318182</td>\n",
       "      <td>0.027727</td>\n",
       "    </tr>\n",
       "    <tr>\n",
       "      <td>7</td>\n",
       "      <td>140.929048</td>\n",
       "      <td>5.268529e+06</td>\n",
       "      <td>141.336190</td>\n",
       "      <td>142.211424</td>\n",
       "      <td>139.929176</td>\n",
       "      <td>16.571429</td>\n",
       "      <td>-0.407143</td>\n",
       "    </tr>\n",
       "    <tr>\n",
       "      <td>8</td>\n",
       "      <td>141.161364</td>\n",
       "      <td>3.167661e+06</td>\n",
       "      <td>141.120000</td>\n",
       "      <td>141.980659</td>\n",
       "      <td>140.328709</td>\n",
       "      <td>15.954545</td>\n",
       "      <td>0.041364</td>\n",
       "    </tr>\n",
       "    <tr>\n",
       "      <td>9</td>\n",
       "      <td>137.043529</td>\n",
       "      <td>3.495536e+06</td>\n",
       "      <td>137.347059</td>\n",
       "      <td>138.184100</td>\n",
       "      <td>136.334494</td>\n",
       "      <td>13.235294</td>\n",
       "      <td>-0.303529</td>\n",
       "    </tr>\n",
       "  </tbody>\n",
       "</table>\n",
       "</div>"
      ],
      "text/plain": [
       "       Close/Last        Volume        Open        High         Low  \\\n",
       "month                                                                 \n",
       "3      134.613333  4.786115e+06  135.460000  136.016667  134.080000   \n",
       "4      137.379524  5.853357e+06  137.165000  138.577852  136.149048   \n",
       "5      144.521000  4.832958e+06  144.349000  145.484670  143.476210   \n",
       "6      147.078636  3.838590e+06  147.050909  148.073409  146.046914   \n",
       "7      140.929048  5.268529e+06  141.336190  142.211424  139.929176   \n",
       "8      141.161364  3.167661e+06  141.120000  141.980659  140.328709   \n",
       "9      137.043529  3.495536e+06  137.347059  138.184100  136.334494   \n",
       "\n",
       "             day  close-open  \n",
       "month                         \n",
       "3      30.000000   -0.846667  \n",
       "4      16.714286    0.214524  \n",
       "5      15.500000    0.172000  \n",
       "6      15.318182    0.027727  \n",
       "7      16.571429   -0.407143  \n",
       "8      15.954545    0.041364  \n",
       "9      13.235294   -0.303529  "
      ]
     },
     "execution_count": 92,
     "metadata": {},
     "output_type": "execute_result"
    }
   ],
   "source": [
    "IBM_df.groupby('month').mean()    "
   ]
  },
  {
   "cell_type": "markdown",
   "metadata": {},
   "source": [
    "## Maximum 'High' Values in past 6 months"
   ]
  },
  {
   "cell_type": "code",
   "execution_count": 93,
   "metadata": {},
   "outputs": [
    {
     "data": {
      "text/plain": [
       "[<matplotlib.lines.Line2D at 0x21a3d87d048>]"
      ]
     },
     "execution_count": 93,
     "metadata": {},
     "output_type": "execute_result"
    },
    {
     "data": {
      "image/png": "[encoded data removed]",
      "text/plain": [
       "<Figure size 432x288 with 1 Axes>"
      ]
     },
     "metadata": {
      "needs_background": "light"
     },
     "output_type": "display_data"
    }
   ],
   "source": [
    "plt.plot(IBM_df.groupby('month')['High'].max())"
   ]
  },
  {
   "cell_type": "markdown",
   "metadata": {},
   "source": [
    "## minimum 'High' Values in past 6 months"
   ]
  },
  {
   "cell_type": "code",
   "execution_count": 94,
   "metadata": {
    "scrolled": true
   },
   "outputs": [
    {
     "data": {
      "text/plain": [
       "[<matplotlib.lines.Line2D at 0x21a3d8e8188>]"
      ]
     },
     "execution_count": 94,
     "metadata": {},
     "output_type": "execute_result"
    },
    {
     "data": {
      "image/png": "[encoded data removed]",
      "text/plain": [
       "<Figure size 432x288 with 1 Axes>"
      ]
     },
     "metadata": {
      "needs_background": "light"
     },
     "output_type": "display_data"
    }
   ],
   "source": [
    "plt.plot(IBM_df.groupby('month')['High'].min())"
   ]
  },
  {
   "cell_type": "markdown",
   "metadata": {},
   "source": [
    "## Maximum 'Close/Last' Values in past 6 months"
   ]
  },
  {
   "cell_type": "code",
   "execution_count": 95,
   "metadata": {
    "scrolled": true
   },
   "outputs": [
    {
     "data": {
      "text/plain": [
       "[<matplotlib.lines.Line2D at 0x21a3d94ad88>]"
      ]
     },
     "execution_count": 95,
     "metadata": {},
     "output_type": "execute_result"
    },
    {
     "data": {
      "image/png": "[encoded data removed]",
      "text/plain": [
       "<Figure size 432x288 with 1 Axes>"
      ]
     },
     "metadata": {
      "needs_background": "light"
     },
     "output_type": "display_data"
    }
   ],
   "source": [
    "plt.plot(IBM_df.groupby('month')['Close/Last'].max())"
   ]
  },
  {
   "cell_type": "markdown",
   "metadata": {},
   "source": [
    "## Minmum 'Close/Last' Values in past 6 months"
   ]
  },
  {
   "cell_type": "code",
   "execution_count": 96,
   "metadata": {},
   "outputs": [
    {
     "data": {
      "text/plain": [
       "[<matplotlib.lines.Line2D at 0x21a3d9bbc88>]"
      ]
     },
     "execution_count": 96,
     "metadata": {},
     "output_type": "execute_result"
    },
    {
     "data": {
      "image/png": "[encoded data removed]",
      "text/plain": [
       "<Figure size 432x288 with 1 Axes>"
      ]
     },
     "metadata": {
      "needs_background": "light"
     },
     "output_type": "display_data"
    }
   ],
   "source": [
    "plt.plot(IBM_df.groupby('month')['Close/Last'].min())"
   ]
  },
  {
   "cell_type": "markdown",
   "metadata": {},
   "source": [
    "#   "
   ]
  },
  {
   "cell_type": "markdown",
   "metadata": {},
   "source": [
    "#    "
   ]
  },
  {
   "cell_type": "markdown",
   "metadata": {},
   "source": [
    "# TSLA Stock Data"
   ]
  },
  {
   "cell_type": "code",
   "execution_count": 98,
   "metadata": {},
   "outputs": [],
   "source": [
    "TSLA_df=pd.read_csv('HistoricalData_TSLA.csv')"
   ]
  },
  {
   "cell_type": "markdown",
   "metadata": {},
   "source": [
    "# checking data and explore columns type"
   ]
  },
  {
   "cell_type": "code",
   "execution_count": 99,
   "metadata": {},
   "outputs": [
    {
     "data": {
      "text/html": [
       "<div>\n",
       "<style scoped>\n",
       "    .dataframe tbody tr th:only-of-type {\n",
       "        vertical-align: middle;\n",
       "    }\n",
       "\n",
       "    .dataframe tbody tr th {\n",
       "        vertical-align: top;\n",
       "    }\n",
       "\n",
       "    .dataframe thead th {\n",
       "        text-align: right;\n",
       "    }\n",
       "</style>\n",
       "<table border=\"1\" class=\"dataframe\">\n",
       "  <thead>\n",
       "    <tr style=\"text-align: right;\">\n",
       "      <th></th>\n",
       "      <th>Date</th>\n",
       "      <th>Close/Last</th>\n",
       "      <th>Volume</th>\n",
       "      <th>Open</th>\n",
       "      <th>High</th>\n",
       "      <th>Low</th>\n",
       "    </tr>\n",
       "  </thead>\n",
       "  <tbody>\n",
       "    <tr>\n",
       "      <td>0</td>\n",
       "      <td>09/24/2021</td>\n",
       "      <td>$774.39</td>\n",
       "      <td>21373020</td>\n",
       "      <td>$745.89</td>\n",
       "      <td>$774.8</td>\n",
       "      <td>$744.56</td>\n",
       "    </tr>\n",
       "    <tr>\n",
       "      <td>1</td>\n",
       "      <td>09/23/2021</td>\n",
       "      <td>$753.64</td>\n",
       "      <td>11947530</td>\n",
       "      <td>$755</td>\n",
       "      <td>$758.2</td>\n",
       "      <td>$747.92</td>\n",
       "    </tr>\n",
       "    <tr>\n",
       "      <td>2</td>\n",
       "      <td>09/22/2021</td>\n",
       "      <td>$751.94</td>\n",
       "      <td>15126270</td>\n",
       "      <td>$743.5263</td>\n",
       "      <td>$753.6699</td>\n",
       "      <td>$739.12</td>\n",
       "    </tr>\n",
       "    <tr>\n",
       "      <td>3</td>\n",
       "      <td>09/21/2021</td>\n",
       "      <td>$739.38</td>\n",
       "      <td>16330720</td>\n",
       "      <td>$734.79</td>\n",
       "      <td>$744.7399</td>\n",
       "      <td>$730.44</td>\n",
       "    </tr>\n",
       "    <tr>\n",
       "      <td>4</td>\n",
       "      <td>09/20/2021</td>\n",
       "      <td>$730.17</td>\n",
       "      <td>24757650</td>\n",
       "      <td>$734.5577</td>\n",
       "      <td>$742</td>\n",
       "      <td>$718.6249</td>\n",
       "    </tr>\n",
       "  </tbody>\n",
       "</table>\n",
       "</div>"
      ],
      "text/plain": [
       "         Date Close/Last    Volume       Open       High        Low\n",
       "0  09/24/2021    $774.39  21373020    $745.89     $774.8    $744.56\n",
       "1  09/23/2021    $753.64  11947530       $755     $758.2    $747.92\n",
       "2  09/22/2021    $751.94  15126270  $743.5263  $753.6699    $739.12\n",
       "3  09/21/2021    $739.38  16330720    $734.79  $744.7399    $730.44\n",
       "4  09/20/2021    $730.17  24757650  $734.5577       $742  $718.6249"
      ]
     },
     "execution_count": 99,
     "metadata": {},
     "output_type": "execute_result"
    }
   ],
   "source": [
    "TSLA_df.head(5)"
   ]
  },
  {
   "cell_type": "code",
   "execution_count": 100,
   "metadata": {},
   "outputs": [
    {
     "name": "stdout",
     "output_type": "stream",
     "text": [
      "<class 'pandas.core.frame.DataFrame'>\n",
      "RangeIndex: 126 entries, 0 to 125\n",
      "Data columns (total 6 columns):\n",
      "Date          126 non-null object\n",
      "Close/Last    126 non-null object\n",
      "Volume        126 non-null int64\n",
      "Open          126 non-null object\n",
      "High          126 non-null object\n",
      "Low           126 non-null object\n",
      "dtypes: int64(1), object(5)\n",
      "memory usage: 6.0+ KB\n"
     ]
    }
   ],
   "source": [
    "TSLA_df.info()"
   ]
  },
  {
   "cell_type": "markdown",
   "metadata": {},
   "source": [
    "#  Removing  \" Dollar sign\" from 'Close/Last','Open','High','Low' culomns"
   ]
  },
  {
   "cell_type": "code",
   "execution_count": 101,
   "metadata": {},
   "outputs": [],
   "source": [
    "\n",
    "string_col=['Date','Close/Last','Open','High','Low']\n",
    "for col in string_col:\n",
    "    TSLA_df[col] = TSLA_df[col].map(lambda x: str(x).replace('$',''))"
   ]
  },
  {
   "cell_type": "markdown",
   "metadata": {},
   "source": [
    "# Splitting \"Date\" cloumn into (day,month,and year) then, droping it and drop \"year\" column beacause our data is only 6months ,so year would not affect our model."
   ]
  },
  {
   "cell_type": "code",
   "execution_count": 102,
   "metadata": {},
   "outputs": [],
   "source": [
    "TSLA_df[\"day\"] = TSLA_df['Date'].map(lambda x: pd.to_datetime(x).day)\n",
    "TSLA_df[\"month\"] = TSLA_df['Date'].map(lambda x: pd.to_datetime(x).month)\n",
    "TSLA_df[\"year\"] = TSLA_df['Date'].map(lambda x: pd.to_datetime(x).year)"
   ]
  },
  {
   "cell_type": "code",
   "execution_count": 103,
   "metadata": {},
   "outputs": [],
   "source": [
    "TSLA_df = TSLA_df.drop([\"Date\",\"year\"],axis =1 )"
   ]
  },
  {
   "cell_type": "markdown",
   "metadata": {},
   "source": [
    "# converting columns types to numerical"
   ]
  },
  {
   "cell_type": "code",
   "execution_count": 104,
   "metadata": {},
   "outputs": [],
   "source": [
    "string_2_float=['Close/Last','Open','High','Low']\n",
    "TSLA_df['day'] = TSLA_df['day'].apply(int)\n",
    "TSLA_df['month'] = TSLA_df['month'].apply(int)\n",
    "for col in string_2_float:\n",
    "    TSLA_df[col] = TSLA_df[col].apply(float)"
   ]
  },
  {
   "cell_type": "markdown",
   "metadata": {},
   "source": [
    "### The result of data is : "
   ]
  },
  {
   "cell_type": "code",
   "execution_count": 105,
   "metadata": {},
   "outputs": [
    {
     "data": {
      "text/html": [
       "<div>\n",
       "<style scoped>\n",
       "    .dataframe tbody tr th:only-of-type {\n",
       "        vertical-align: middle;\n",
       "    }\n",
       "\n",
       "    .dataframe tbody tr th {\n",
       "        vertical-align: top;\n",
       "    }\n",
       "\n",
       "    .dataframe thead th {\n",
       "        text-align: right;\n",
       "    }\n",
       "</style>\n",
       "<table border=\"1\" class=\"dataframe\">\n",
       "  <thead>\n",
       "    <tr style=\"text-align: right;\">\n",
       "      <th></th>\n",
       "      <th>Close/Last</th>\n",
       "      <th>Volume</th>\n",
       "      <th>Open</th>\n",
       "      <th>High</th>\n",
       "      <th>Low</th>\n",
       "      <th>day</th>\n",
       "      <th>month</th>\n",
       "    </tr>\n",
       "  </thead>\n",
       "  <tbody>\n",
       "    <tr>\n",
       "      <td>0</td>\n",
       "      <td>774.39</td>\n",
       "      <td>21373020</td>\n",
       "      <td>745.8900</td>\n",
       "      <td>774.8000</td>\n",
       "      <td>744.5600</td>\n",
       "      <td>24</td>\n",
       "      <td>9</td>\n",
       "    </tr>\n",
       "    <tr>\n",
       "      <td>1</td>\n",
       "      <td>753.64</td>\n",
       "      <td>11947530</td>\n",
       "      <td>755.0000</td>\n",
       "      <td>758.2000</td>\n",
       "      <td>747.9200</td>\n",
       "      <td>23</td>\n",
       "      <td>9</td>\n",
       "    </tr>\n",
       "    <tr>\n",
       "      <td>2</td>\n",
       "      <td>751.94</td>\n",
       "      <td>15126270</td>\n",
       "      <td>743.5263</td>\n",
       "      <td>753.6699</td>\n",
       "      <td>739.1200</td>\n",
       "      <td>22</td>\n",
       "      <td>9</td>\n",
       "    </tr>\n",
       "    <tr>\n",
       "      <td>3</td>\n",
       "      <td>739.38</td>\n",
       "      <td>16330720</td>\n",
       "      <td>734.7900</td>\n",
       "      <td>744.7399</td>\n",
       "      <td>730.4400</td>\n",
       "      <td>21</td>\n",
       "      <td>9</td>\n",
       "    </tr>\n",
       "    <tr>\n",
       "      <td>4</td>\n",
       "      <td>730.17</td>\n",
       "      <td>24757650</td>\n",
       "      <td>734.5577</td>\n",
       "      <td>742.0000</td>\n",
       "      <td>718.6249</td>\n",
       "      <td>20</td>\n",
       "      <td>9</td>\n",
       "    </tr>\n",
       "  </tbody>\n",
       "</table>\n",
       "</div>"
      ],
      "text/plain": [
       "   Close/Last    Volume      Open      High       Low  day  month\n",
       "0      774.39  21373020  745.8900  774.8000  744.5600   24      9\n",
       "1      753.64  11947530  755.0000  758.2000  747.9200   23      9\n",
       "2      751.94  15126270  743.5263  753.6699  739.1200   22      9\n",
       "3      739.38  16330720  734.7900  744.7399  730.4400   21      9\n",
       "4      730.17  24757650  734.5577  742.0000  718.6249   20      9"
      ]
     },
     "execution_count": 105,
     "metadata": {},
     "output_type": "execute_result"
    }
   ],
   "source": [
    "TSLA_df.head(5)"
   ]
  },
  {
   "cell_type": "code",
   "execution_count": 106,
   "metadata": {},
   "outputs": [
    {
     "name": "stdout",
     "output_type": "stream",
     "text": [
      "<class 'pandas.core.frame.DataFrame'>\n",
      "RangeIndex: 126 entries, 0 to 125\n",
      "Data columns (total 7 columns):\n",
      "Close/Last    126 non-null float64\n",
      "Volume        126 non-null int64\n",
      "Open          126 non-null float64\n",
      "High          126 non-null float64\n",
      "Low           126 non-null float64\n",
      "day           126 non-null int64\n",
      "month         126 non-null int64\n",
      "dtypes: float64(4), int64(3)\n",
      "memory usage: 7.0 KB\n"
     ]
    }
   ],
   "source": [
    "TSLA_df.info()"
   ]
  },
  {
   "cell_type": "code",
   "execution_count": 107,
   "metadata": {},
   "outputs": [
    {
     "data": {
      "text/html": [
       "<div>\n",
       "<style scoped>\n",
       "    .dataframe tbody tr th:only-of-type {\n",
       "        vertical-align: middle;\n",
       "    }\n",
       "\n",
       "    .dataframe tbody tr th {\n",
       "        vertical-align: top;\n",
       "    }\n",
       "\n",
       "    .dataframe thead th {\n",
       "        text-align: right;\n",
       "    }\n",
       "</style>\n",
       "<table border=\"1\" class=\"dataframe\">\n",
       "  <thead>\n",
       "    <tr style=\"text-align: right;\">\n",
       "      <th></th>\n",
       "      <th>Close/Last</th>\n",
       "      <th>Volume</th>\n",
       "      <th>Open</th>\n",
       "      <th>High</th>\n",
       "      <th>Low</th>\n",
       "      <th>day</th>\n",
       "      <th>month</th>\n",
       "    </tr>\n",
       "  </thead>\n",
       "  <tbody>\n",
       "    <tr>\n",
       "      <td>count</td>\n",
       "      <td>126.000000</td>\n",
       "      <td>1.260000e+02</td>\n",
       "      <td>126.000000</td>\n",
       "      <td>126.000000</td>\n",
       "      <td>126.000000</td>\n",
       "      <td>126.000000</td>\n",
       "      <td>126.000000</td>\n",
       "    </tr>\n",
       "    <tr>\n",
       "      <td>mean</td>\n",
       "      <td>674.671270</td>\n",
       "      <td>2.423235e+07</td>\n",
       "      <td>674.011193</td>\n",
       "      <td>685.613536</td>\n",
       "      <td>662.674837</td>\n",
       "      <td>15.968254</td>\n",
       "      <td>6.357143</td>\n",
       "    </tr>\n",
       "    <tr>\n",
       "      <td>std</td>\n",
       "      <td>52.448037</td>\n",
       "      <td>8.535515e+06</td>\n",
       "      <td>52.422448</td>\n",
       "      <td>51.627427</td>\n",
       "      <td>52.663529</td>\n",
       "      <td>8.728745</td>\n",
       "      <td>1.736499</td>\n",
       "    </tr>\n",
       "    <tr>\n",
       "      <td>min</td>\n",
       "      <td>563.460000</td>\n",
       "      <td>9.800558e+06</td>\n",
       "      <td>552.550000</td>\n",
       "      <td>566.210000</td>\n",
       "      <td>546.980000</td>\n",
       "      <td>1.000000</td>\n",
       "      <td>3.000000</td>\n",
       "    </tr>\n",
       "    <tr>\n",
       "      <td>25%</td>\n",
       "      <td>632.042500</td>\n",
       "      <td>1.745640e+07</td>\n",
       "      <td>628.402500</td>\n",
       "      <td>640.044975</td>\n",
       "      <td>620.735000</td>\n",
       "      <td>9.000000</td>\n",
       "      <td>5.000000</td>\n",
       "    </tr>\n",
       "    <tr>\n",
       "      <td>50%</td>\n",
       "      <td>677.635000</td>\n",
       "      <td>2.286290e+07</td>\n",
       "      <td>679.375000</td>\n",
       "      <td>691.754950</td>\n",
       "      <td>668.170100</td>\n",
       "      <td>16.000000</td>\n",
       "      <td>6.000000</td>\n",
       "    </tr>\n",
       "    <tr>\n",
       "      <td>75%</td>\n",
       "      <td>714.412500</td>\n",
       "      <td>2.936167e+07</td>\n",
       "      <td>713.670000</td>\n",
       "      <td>724.675000</td>\n",
       "      <td>704.157500</td>\n",
       "      <td>23.000000</td>\n",
       "      <td>8.000000</td>\n",
       "    </tr>\n",
       "    <tr>\n",
       "      <td>max</td>\n",
       "      <td>774.390000</td>\n",
       "      <td>4.901743e+07</td>\n",
       "      <td>770.700000</td>\n",
       "      <td>780.790000</td>\n",
       "      <td>751.630100</td>\n",
       "      <td>31.000000</td>\n",
       "      <td>9.000000</td>\n",
       "    </tr>\n",
       "  </tbody>\n",
       "</table>\n",
       "</div>"
      ],
      "text/plain": [
       "       Close/Last        Volume        Open        High         Low  \\\n",
       "count  126.000000  1.260000e+02  126.000000  126.000000  126.000000   \n",
       "mean   674.671270  2.423235e+07  674.011193  685.613536  662.674837   \n",
       "std     52.448037  8.535515e+06   52.422448   51.627427   52.663529   \n",
       "min    563.460000  9.800558e+06  552.550000  566.210000  546.980000   \n",
       "25%    632.042500  1.745640e+07  628.402500  640.044975  620.735000   \n",
       "50%    677.635000  2.286290e+07  679.375000  691.754950  668.170100   \n",
       "75%    714.412500  2.936167e+07  713.670000  724.675000  704.157500   \n",
       "max    774.390000  4.901743e+07  770.700000  780.790000  751.630100   \n",
       "\n",
       "              day       month  \n",
       "count  126.000000  126.000000  \n",
       "mean    15.968254    6.357143  \n",
       "std      8.728745    1.736499  \n",
       "min      1.000000    3.000000  \n",
       "25%      9.000000    5.000000  \n",
       "50%     16.000000    6.000000  \n",
       "75%     23.000000    8.000000  \n",
       "max     31.000000    9.000000  "
      ]
     },
     "execution_count": 107,
     "metadata": {},
     "output_type": "execute_result"
    }
   ],
   "source": [
    "TSLA_df.describe()"
   ]
  },
  {
   "cell_type": "markdown",
   "metadata": {},
   "source": [
    "# Check if columns has missing values "
   ]
  },
  {
   "cell_type": "code",
   "execution_count": 108,
   "metadata": {},
   "outputs": [
    {
     "name": "stdout",
     "output_type": "stream",
     "text": [
      "does column Close/Last has null values? False\n",
      "does column Volume has null values? False\n",
      "does column Open has null values? False\n",
      "does column High has null values? False\n",
      "does column Low has null values? False\n",
      "does column day has null values? False\n",
      "does column month has null values? False\n"
     ]
    }
   ],
   "source": [
    "a=[]\n",
    "a=TSLA_df.columns\n",
    "for i in a:\n",
    "    print(f'does column {i} has null values? {TSLA_df[i].isnull().any()}')\n"
   ]
  },
  {
   "cell_type": "markdown",
   "metadata": {},
   "source": [
    "## so,there is no NAN (missing values) in TSLA data"
   ]
  },
  {
   "cell_type": "markdown",
   "metadata": {},
   "source": [
    "# Exploratory Data Analysis"
   ]
  },
  {
   "cell_type": "code",
   "execution_count": 109,
   "metadata": {},
   "outputs": [
    {
     "data": {
      "text/plain": [
       "<seaborn.axisgrid.FacetGrid at 0x21a3da78308>"
      ]
     },
     "execution_count": 109,
     "metadata": {},
     "output_type": "execute_result"
    },
    {
     "data": {
      "image/png": "[encoded data removed]",
      "text/plain": [
       "<Figure size 360x360 with 1 Axes>"
      ]
     },
     "metadata": {
      "needs_background": "light"
     },
     "output_type": "display_data"
    }
   ],
   "source": [
    "sns.catplot(x = \"month\", y = \"High\", data = TSLA_df, kind = \"bar\", height = 5)"
   ]
  },
  {
   "cell_type": "code",
   "execution_count": 110,
   "metadata": {
    "scrolled": true
   },
   "outputs": [
    {
     "data": {
      "text/plain": [
       "<seaborn.axisgrid.FacetGrid at 0x21a3da50488>"
      ]
     },
     "execution_count": 110,
     "metadata": {},
     "output_type": "execute_result"
    },
    {
     "data": {
      "image/png": "[encoded data removed]",
      "text/plain": [
       "<Figure size 288x288 with 1 Axes>"
      ]
     },
     "metadata": {
      "needs_background": "light"
     },
     "output_type": "display_data"
    }
   ],
   "source": [
    "sns.catplot(x = \"month\", y = \"Low\", data = TSLA_df, kind = \"bar\", height = 4)"
   ]
  },
  {
   "cell_type": "markdown",
   "metadata": {},
   "source": [
    "### adding column for deffernce between Openning and Closing"
   ]
  },
  {
   "cell_type": "code",
   "execution_count": 111,
   "metadata": {},
   "outputs": [],
   "source": [
    "TSLA_df['close-open']=TSLA_df[\"Close/Last\"]-TSLA_df[\"Open\"]"
   ]
  },
  {
   "cell_type": "markdown",
   "metadata": {},
   "source": [
    "## mean (Average) values over last 6 months"
   ]
  },
  {
   "cell_type": "code",
   "execution_count": 112,
   "metadata": {
    "scrolled": true
   },
   "outputs": [
    {
     "data": {
      "text/html": [
       "<div>\n",
       "<style scoped>\n",
       "    .dataframe tbody tr th:only-of-type {\n",
       "        vertical-align: middle;\n",
       "    }\n",
       "\n",
       "    .dataframe tbody tr th {\n",
       "        vertical-align: top;\n",
       "    }\n",
       "\n",
       "    .dataframe thead th {\n",
       "        text-align: right;\n",
       "    }\n",
       "</style>\n",
       "<table border=\"1\" class=\"dataframe\">\n",
       "  <thead>\n",
       "    <tr style=\"text-align: right;\">\n",
       "      <th></th>\n",
       "      <th>Close/Last</th>\n",
       "      <th>Volume</th>\n",
       "      <th>Open</th>\n",
       "      <th>High</th>\n",
       "      <th>Low</th>\n",
       "      <th>day</th>\n",
       "      <th>close-open</th>\n",
       "    </tr>\n",
       "    <tr>\n",
       "      <th>month</th>\n",
       "      <th></th>\n",
       "      <th></th>\n",
       "      <th></th>\n",
       "      <th></th>\n",
       "      <th></th>\n",
       "      <th></th>\n",
       "      <th></th>\n",
       "    </tr>\n",
       "  </thead>\n",
       "  <tbody>\n",
       "    <tr>\n",
       "      <td>3</td>\n",
       "      <td>638.280000</td>\n",
       "      <td>3.380221e+07</td>\n",
       "      <td>621.336667</td>\n",
       "      <td>642.046667</td>\n",
       "      <td>609.380000</td>\n",
       "      <td>30.000000</td>\n",
       "      <td>16.943333</td>\n",
       "    </tr>\n",
       "    <tr>\n",
       "      <td>4</td>\n",
       "      <td>709.618095</td>\n",
       "      <td>3.231352e+07</td>\n",
       "      <td>709.282857</td>\n",
       "      <td>723.755248</td>\n",
       "      <td>695.203605</td>\n",
       "      <td>16.714286</td>\n",
       "      <td>0.335238</td>\n",
       "    </tr>\n",
       "    <tr>\n",
       "      <td>5</td>\n",
       "      <td>616.753000</td>\n",
       "      <td>3.125167e+07</td>\n",
       "      <td>618.718400</td>\n",
       "      <td>630.836585</td>\n",
       "      <td>604.396305</td>\n",
       "      <td>15.500000</td>\n",
       "      <td>-1.965400</td>\n",
       "    </tr>\n",
       "    <tr>\n",
       "      <td>6</td>\n",
       "      <td>626.919545</td>\n",
       "      <td>2.363281e+07</td>\n",
       "      <td>626.255818</td>\n",
       "      <td>637.298323</td>\n",
       "      <td>617.057732</td>\n",
       "      <td>15.318182</td>\n",
       "      <td>0.663727</td>\n",
       "    </tr>\n",
       "    <tr>\n",
       "      <td>7</td>\n",
       "      <td>659.134762</td>\n",
       "      <td>2.135680e+07</td>\n",
       "      <td>659.522967</td>\n",
       "      <td>670.919571</td>\n",
       "      <td>647.039924</td>\n",
       "      <td>16.571429</td>\n",
       "      <td>-0.388205</td>\n",
       "    </tr>\n",
       "    <tr>\n",
       "      <td>8</td>\n",
       "      <td>705.243182</td>\n",
       "      <td>1.736242e+07</td>\n",
       "      <td>704.433409</td>\n",
       "      <td>714.541350</td>\n",
       "      <td>695.659123</td>\n",
       "      <td>15.954545</td>\n",
       "      <td>0.809773</td>\n",
       "    </tr>\n",
       "    <tr>\n",
       "      <td>9</td>\n",
       "      <td>747.487647</td>\n",
       "      <td>1.752145e+07</td>\n",
       "      <td>745.114529</td>\n",
       "      <td>753.869988</td>\n",
       "      <td>736.122265</td>\n",
       "      <td>13.235294</td>\n",
       "      <td>2.373118</td>\n",
       "    </tr>\n",
       "  </tbody>\n",
       "</table>\n",
       "</div>"
      ],
      "text/plain": [
       "       Close/Last        Volume        Open        High         Low  \\\n",
       "month                                                                 \n",
       "3      638.280000  3.380221e+07  621.336667  642.046667  609.380000   \n",
       "4      709.618095  3.231352e+07  709.282857  723.755248  695.203605   \n",
       "5      616.753000  3.125167e+07  618.718400  630.836585  604.396305   \n",
       "6      626.919545  2.363281e+07  626.255818  637.298323  617.057732   \n",
       "7      659.134762  2.135680e+07  659.522967  670.919571  647.039924   \n",
       "8      705.243182  1.736242e+07  704.433409  714.541350  695.659123   \n",
       "9      747.487647  1.752145e+07  745.114529  753.869988  736.122265   \n",
       "\n",
       "             day  close-open  \n",
       "month                         \n",
       "3      30.000000   16.943333  \n",
       "4      16.714286    0.335238  \n",
       "5      15.500000   -1.965400  \n",
       "6      15.318182    0.663727  \n",
       "7      16.571429   -0.388205  \n",
       "8      15.954545    0.809773  \n",
       "9      13.235294    2.373118  "
      ]
     },
     "execution_count": 112,
     "metadata": {},
     "output_type": "execute_result"
    }
   ],
   "source": [
    "TSLA_df.groupby('month').mean()    "
   ]
  },
  {
   "cell_type": "markdown",
   "metadata": {},
   "source": [
    "## Maximum 'High' Values in past 6 months"
   ]
  },
  {
   "cell_type": "code",
   "execution_count": 113,
   "metadata": {},
   "outputs": [
    {
     "data": {
      "text/plain": [
       "[<matplotlib.lines.Line2D at 0x21a3dbbd848>]"
      ]
     },
     "execution_count": 113,
     "metadata": {},
     "output_type": "execute_result"
    },
    {
     "data": {
      "image/png": "[encoded data removed]",
      "text/plain": [
       "<Figure size 432x288 with 1 Axes>"
      ]
     },
     "metadata": {
      "needs_background": "light"
     },
     "output_type": "display_data"
    }
   ],
   "source": [
    "plt.plot(TSLA_df.groupby('month')['High'].max())"
   ]
  },
  {
   "cell_type": "markdown",
   "metadata": {},
   "source": [
    "## minimum 'High' Values in past 6 months"
   ]
  },
  {
   "cell_type": "code",
   "execution_count": 114,
   "metadata": {
    "scrolled": true
   },
   "outputs": [
    {
     "data": {
      "text/plain": [
       "[<matplotlib.lines.Line2D at 0x21a3dc25c88>]"
      ]
     },
     "execution_count": 114,
     "metadata": {},
     "output_type": "execute_result"
    },
    {
     "data": {
      "image/png": "[encoded data removed]",
      "text/plain": [
       "<Figure size 432x288 with 1 Axes>"
      ]
     },
     "metadata": {
      "needs_background": "light"
     },
     "output_type": "display_data"
    }
   ],
   "source": [
    "plt.plot(TSLA_df.groupby('month')['High'].min())"
   ]
  },
  {
   "cell_type": "markdown",
   "metadata": {},
   "source": [
    "## Maximum 'Close/Last' Values in past 6 months"
   ]
  },
  {
   "cell_type": "code",
   "execution_count": 115,
   "metadata": {
    "scrolled": true
   },
   "outputs": [
    {
     "data": {
      "text/plain": [
       "[<matplotlib.lines.Line2D at 0x21a3dc92e88>]"
      ]
     },
     "execution_count": 115,
     "metadata": {},
     "output_type": "execute_result"
    },
    {
     "data": {
      "image/png": "[encoded data removed]",
      "text/plain": [
       "<Figure size 432x288 with 1 Axes>"
      ]
     },
     "metadata": {
      "needs_background": "light"
     },
     "output_type": "display_data"
    }
   ],
   "source": [
    "plt.plot(TSLA_df.groupby('month')['Close/Last'].max())"
   ]
  },
  {
   "cell_type": "markdown",
   "metadata": {},
   "source": [
    "## Minmum 'Close/Last' Values in past 6 months"
   ]
  },
  {
   "cell_type": "code",
   "execution_count": 116,
   "metadata": {},
   "outputs": [
    {
     "data": {
      "text/plain": [
       "[<matplotlib.lines.Line2D at 0x21a3dcf75c8>]"
      ]
     },
     "execution_count": 116,
     "metadata": {},
     "output_type": "execute_result"
    },
    {
     "data": {
      "image/png": "[encoded data removed]",
      "text/plain": [
       "<Figure size 432x288 with 1 Axes>"
      ]
     },
     "metadata": {
      "needs_background": "light"
     },
     "output_type": "display_data"
    }
   ],
   "source": [
    "plt.plot(TSLA_df.groupby('month')['Close/Last'].min())"
   ]
  },
  {
   "cell_type": "markdown",
   "metadata": {},
   "source": [
    "#   "
   ]
  }
 ],
 "metadata": {
  "kernelspec": {
   "display_name": "Python 3",
   "language": "python",
   "name": "python3"
  },
  "language_info": {
   "codemirror_mode": {
    "name": "ipython",
    "version": 3
   },
   "file_extension": ".py",
   "mimetype": "text/x-python",
   "name": "python",
   "nbconvert_exporter": "python",
   "pygments_lexer": "ipython3",
   "version": "3.7.4"
  }
 },
 "nbformat": 4,
 "nbformat_minor": 2
}
